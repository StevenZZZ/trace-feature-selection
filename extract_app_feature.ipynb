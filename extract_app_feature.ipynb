{
 "cells": [
  {
   "cell_type": "code",
   "execution_count": 1,
   "metadata": {},
   "outputs": [],
   "source": [
    "import numpy as np\n",
    "import pandas as pd\n",
    "from importlib import reload"
   ]
  },
  {
   "cell_type": "code",
   "execution_count": 2,
   "metadata": {},
   "outputs": [],
   "source": [
    "# define constants\n",
    "TRACE_FILE_NAME = 'data/LOL_AI.pcapng' # replace with your raw trace .pcapng/.pcap file name\n",
    "TRACE_TCP_PACKET_FEATURE_FILE_NAME = 'data/LOL_AI_tcp_pkt.csv' # replace with your favorite tcp packet feature .csv file name\n",
    "TRACE_UDP_PACKET_FEATURE_FILE_NAME = 'data/LOL_AI_udp_pkt.csv' # replace with your favorite udp packet feature .csv file name\n",
    "TRACE_PACKET_FEATURE_FILE_NAME = 'data/LOL_AI_pkt.csv' # replace with your favorite packet feature .csv file name\n",
    "LOCAL_IP = '172.16.26.207' # your local ip"
   ]
  },
  {
   "cell_type": "markdown",
   "metadata": {},
   "source": [
    "## Extract TCP packets"
   ]
  },
  {
   "cell_type": "code",
   "execution_count": 3,
   "metadata": {},
   "outputs": [
    {
     "name": "stdout",
     "output_type": "stream",
     "text": [
      "Conversion done\n",
      "CPU times: user 4.22 ms, sys: 7.77 ms, total: 12 ms\n",
      "Wall time: 5.64 s\n"
     ]
    }
   ],
   "source": [
    "# convert raw trace to readable udp and tcp packet feature csv file\n",
    "from python import packet_feature\n",
    "reload(packet_feature)\n",
    "%time packet_feature.tcp_generate(TRACE_FILE_NAME,TRACE_TCP_PACKET_FEATURE_FILE_NAME)"
   ]
  },
  {
   "cell_type": "code",
   "execution_count": 4,
   "metadata": {},
   "outputs": [],
   "source": [
    "# read in packet feature csv file and do some transformation\n",
    "import ipaddress\n",
    "tcp_pkt_feature_df = pd.read_csv(TRACE_TCP_PACKET_FEATURE_FILE_NAME)\n",
    "record_num = tcp_pkt_feature_df.shape[0]\n",
    "tcp_pkt_feature_df['remote_ip'] = tcp_pkt_feature_df.apply(lambda row:row['ip.dst'] if row['ip.src'] == LOCAL_IP else row['ip.src'],axis=1) if record_num > 0 else None\n",
    "tcp_pkt_feature_df['remote_ip2num'] = tcp_pkt_feature_df.apply(lambda row:int(ipaddress.IPv4Address(row['remote_ip'])),axis=1) if record_num > 0 else None\n",
    "tcp_pkt_feature_df['protocol'] = 'tcp' if record_num > 0 else None\n",
    "tcp_pkt_feature_df['is_tcp'] = 1 if record_num > 0 else None\n",
    "tcp_pkt_feature_df['is_udp'] = 0 if record_num > 0 else None\n",
    "tcp_pkt_feature_df.rename(columns={'tcp.len':'pkt_len'},inplace=True)"
   ]
  },
  {
   "cell_type": "code",
   "execution_count": 5,
   "metadata": {},
   "outputs": [
    {
     "data": {
      "text/plain": [
       "(0, 17)"
      ]
     },
     "execution_count": 5,
     "metadata": {},
     "output_type": "execute_result"
    }
   ],
   "source": [
    "# view the shape of the dataset: (number of records, number of features)\n",
    "tcp_pkt_feature_df.shape"
   ]
  },
  {
   "cell_type": "code",
   "execution_count": 6,
   "metadata": {},
   "outputs": [
    {
     "data": {
      "text/plain": [
       "ip.src                 object\n",
       "ip.dst                 object\n",
       "tcp.srcport            object\n",
       "tcp.dstport            object\n",
       "pkt_len                object\n",
       "frame.time_relative    object\n",
       "tcp.seq                object\n",
       "tcp.ack                object\n",
       "tcp.flags.ack          object\n",
       "tcp.flags.syn          object\n",
       "tcp.flags.fin          object\n",
       "tcp.stream             object\n",
       "remote_ip              object\n",
       "remote_ip2num          object\n",
       "protocol               object\n",
       "is_tcp                 object\n",
       "is_udp                 object\n",
       "dtype: object"
      ]
     },
     "execution_count": 6,
     "metadata": {},
     "output_type": "execute_result"
    }
   ],
   "source": [
    "# view the data types for each feature\n",
    "tcp_pkt_feature_df.dtypes"
   ]
  },
  {
   "cell_type": "code",
   "execution_count": 7,
   "metadata": {},
   "outputs": [
    {
     "data": {
      "text/html": [
       "<div>\n",
       "<style scoped>\n",
       "    .dataframe tbody tr th:only-of-type {\n",
       "        vertical-align: middle;\n",
       "    }\n",
       "\n",
       "    .dataframe tbody tr th {\n",
       "        vertical-align: top;\n",
       "    }\n",
       "\n",
       "    .dataframe thead th {\n",
       "        text-align: right;\n",
       "    }\n",
       "</style>\n",
       "<table border=\"1\" class=\"dataframe\">\n",
       "  <thead>\n",
       "    <tr style=\"text-align: right;\">\n",
       "      <th></th>\n",
       "      <th>ip.src</th>\n",
       "      <th>ip.dst</th>\n",
       "      <th>tcp.srcport</th>\n",
       "      <th>tcp.dstport</th>\n",
       "      <th>pkt_len</th>\n",
       "      <th>frame.time_relative</th>\n",
       "      <th>tcp.seq</th>\n",
       "      <th>tcp.ack</th>\n",
       "      <th>tcp.flags.ack</th>\n",
       "      <th>tcp.flags.syn</th>\n",
       "      <th>tcp.flags.fin</th>\n",
       "      <th>tcp.stream</th>\n",
       "      <th>remote_ip</th>\n",
       "      <th>remote_ip2num</th>\n",
       "      <th>protocol</th>\n",
       "      <th>is_tcp</th>\n",
       "      <th>is_udp</th>\n",
       "    </tr>\n",
       "  </thead>\n",
       "  <tbody>\n",
       "    <tr>\n",
       "      <th>count</th>\n",
       "      <td>0</td>\n",
       "      <td>0</td>\n",
       "      <td>0</td>\n",
       "      <td>0</td>\n",
       "      <td>0</td>\n",
       "      <td>0</td>\n",
       "      <td>0</td>\n",
       "      <td>0</td>\n",
       "      <td>0</td>\n",
       "      <td>0</td>\n",
       "      <td>0</td>\n",
       "      <td>0</td>\n",
       "      <td>0</td>\n",
       "      <td>0</td>\n",
       "      <td>0</td>\n",
       "      <td>0</td>\n",
       "      <td>0</td>\n",
       "    </tr>\n",
       "    <tr>\n",
       "      <th>unique</th>\n",
       "      <td>0</td>\n",
       "      <td>0</td>\n",
       "      <td>0</td>\n",
       "      <td>0</td>\n",
       "      <td>0</td>\n",
       "      <td>0</td>\n",
       "      <td>0</td>\n",
       "      <td>0</td>\n",
       "      <td>0</td>\n",
       "      <td>0</td>\n",
       "      <td>0</td>\n",
       "      <td>0</td>\n",
       "      <td>0</td>\n",
       "      <td>0</td>\n",
       "      <td>0</td>\n",
       "      <td>0</td>\n",
       "      <td>0</td>\n",
       "    </tr>\n",
       "  </tbody>\n",
       "</table>\n",
       "</div>"
      ],
      "text/plain": [
       "        ip.src  ip.dst  tcp.srcport  tcp.dstport  pkt_len  \\\n",
       "count        0       0            0            0        0   \n",
       "unique       0       0            0            0        0   \n",
       "\n",
       "        frame.time_relative  tcp.seq  tcp.ack  tcp.flags.ack  tcp.flags.syn  \\\n",
       "count                     0        0        0              0              0   \n",
       "unique                    0        0        0              0              0   \n",
       "\n",
       "        tcp.flags.fin  tcp.stream  remote_ip  remote_ip2num  protocol  is_tcp  \\\n",
       "count               0           0          0              0         0       0   \n",
       "unique              0           0          0              0         0       0   \n",
       "\n",
       "        is_udp  \n",
       "count        0  \n",
       "unique       0  "
      ]
     },
     "execution_count": 7,
     "metadata": {},
     "output_type": "execute_result"
    }
   ],
   "source": [
    "# view the statistical features of each numerical feature\n",
    "tcp_pkt_feature_df.describe()"
   ]
  },
  {
   "cell_type": "code",
   "execution_count": 8,
   "metadata": {},
   "outputs": [
    {
     "data": {
      "text/html": [
       "<div>\n",
       "<style scoped>\n",
       "    .dataframe tbody tr th:only-of-type {\n",
       "        vertical-align: middle;\n",
       "    }\n",
       "\n",
       "    .dataframe tbody tr th {\n",
       "        vertical-align: top;\n",
       "    }\n",
       "\n",
       "    .dataframe thead th {\n",
       "        text-align: right;\n",
       "    }\n",
       "</style>\n",
       "<table border=\"1\" class=\"dataframe\">\n",
       "  <thead>\n",
       "    <tr style=\"text-align: right;\">\n",
       "      <th></th>\n",
       "      <th>ip.src</th>\n",
       "      <th>ip.dst</th>\n",
       "      <th>tcp.srcport</th>\n",
       "      <th>tcp.dstport</th>\n",
       "      <th>pkt_len</th>\n",
       "      <th>frame.time_relative</th>\n",
       "      <th>tcp.seq</th>\n",
       "      <th>tcp.ack</th>\n",
       "      <th>tcp.flags.ack</th>\n",
       "      <th>tcp.flags.syn</th>\n",
       "      <th>tcp.flags.fin</th>\n",
       "      <th>tcp.stream</th>\n",
       "      <th>remote_ip</th>\n",
       "      <th>remote_ip2num</th>\n",
       "      <th>protocol</th>\n",
       "      <th>is_tcp</th>\n",
       "      <th>is_udp</th>\n",
       "    </tr>\n",
       "  </thead>\n",
       "  <tbody>\n",
       "  </tbody>\n",
       "</table>\n",
       "</div>"
      ],
      "text/plain": [
       "Empty DataFrame\n",
       "Columns: [ip.src, ip.dst, tcp.srcport, tcp.dstport, pkt_len, frame.time_relative, tcp.seq, tcp.ack, tcp.flags.ack, tcp.flags.syn, tcp.flags.fin, tcp.stream, remote_ip, remote_ip2num, protocol, is_tcp, is_udp]\n",
       "Index: []"
      ]
     },
     "execution_count": 8,
     "metadata": {},
     "output_type": "execute_result"
    }
   ],
   "source": [
    "# view the first 5 records\n",
    "tcp_pkt_feature_df.head()"
   ]
  },
  {
   "cell_type": "markdown",
   "metadata": {},
   "source": [
    "## Extract UDP packets"
   ]
  },
  {
   "cell_type": "code",
   "execution_count": 9,
   "metadata": {},
   "outputs": [
    {
     "name": "stdout",
     "output_type": "stream",
     "text": [
      "Conversion done\n",
      "CPU times: user 4.26 ms, sys: 10.1 ms, total: 14.4 ms\n",
      "Wall time: 6.62 s\n"
     ]
    }
   ],
   "source": [
    "# convert raw trace to readable udp and tcp packet feature csv file\n",
    "from python import packet_feature\n",
    "reload(packet_feature)\n",
    "%time packet_feature.udp_generate(TRACE_FILE_NAME,TRACE_UDP_PACKET_FEATURE_FILE_NAME)"
   ]
  },
  {
   "cell_type": "code",
   "execution_count": 10,
   "metadata": {},
   "outputs": [],
   "source": [
    "# read in packet feature csv file and do some transformation\n",
    "import ipaddress\n",
    "udp_pkt_feature_df = pd.read_csv(TRACE_UDP_PACKET_FEATURE_FILE_NAME)\n",
    "record_num = udp_pkt_feature_df.shape[0]\n",
    "udp_pkt_feature_df['remote_ip'] = udp_pkt_feature_df.apply(lambda row:row['ip.dst'] if row['ip.src'] == LOCAL_IP else row['ip.src'],axis=1) if record_num > 0 else None\n",
    "udp_pkt_feature_df['remote_ip2num'] = udp_pkt_feature_df.apply(lambda row:int(ipaddress.IPv4Address(row['remote_ip'])),axis=1) if record_num > 0 else None\n",
    "udp_pkt_feature_df['protocol'] = 'udp' if record_num > 0 else None\n",
    "udp_pkt_feature_df['is_tcp'] = 0 if record_num > 0 else None\n",
    "udp_pkt_feature_df['is_udp'] = 1 if record_num > 0 else None\n",
    "udp_pkt_feature_df.rename(columns={'udp.length':'pkt_len'},inplace=True)"
   ]
  },
  {
   "cell_type": "code",
   "execution_count": 11,
   "metadata": {},
   "outputs": [
    {
     "data": {
      "text/plain": [
       "(90721, 12)"
      ]
     },
     "execution_count": 11,
     "metadata": {},
     "output_type": "execute_result"
    }
   ],
   "source": [
    "# view the shape of the dataset: (number of records, number of features)\n",
    "udp_pkt_feature_df.shape"
   ]
  },
  {
   "cell_type": "code",
   "execution_count": 12,
   "metadata": {},
   "outputs": [
    {
     "data": {
      "text/plain": [
       "ip.src                  object\n",
       "ip.dst                  object\n",
       "udp.srcport              int64\n",
       "udp.dstport              int64\n",
       "pkt_len                  int64\n",
       "frame.time_relative    float64\n",
       "udp.stream               int64\n",
       "remote_ip               object\n",
       "remote_ip2num            int64\n",
       "protocol                object\n",
       "is_tcp                   int64\n",
       "is_udp                   int64\n",
       "dtype: object"
      ]
     },
     "execution_count": 12,
     "metadata": {},
     "output_type": "execute_result"
    }
   ],
   "source": [
    "# view the data types for each feature\n",
    "udp_pkt_feature_df.dtypes"
   ]
  },
  {
   "cell_type": "code",
   "execution_count": 13,
   "metadata": {},
   "outputs": [
    {
     "data": {
      "text/html": [
       "<div>\n",
       "<style scoped>\n",
       "    .dataframe tbody tr th:only-of-type {\n",
       "        vertical-align: middle;\n",
       "    }\n",
       "\n",
       "    .dataframe tbody tr th {\n",
       "        vertical-align: top;\n",
       "    }\n",
       "\n",
       "    .dataframe thead th {\n",
       "        text-align: right;\n",
       "    }\n",
       "</style>\n",
       "<table border=\"1\" class=\"dataframe\">\n",
       "  <thead>\n",
       "    <tr style=\"text-align: right;\">\n",
       "      <th></th>\n",
       "      <th>udp.srcport</th>\n",
       "      <th>udp.dstport</th>\n",
       "      <th>pkt_len</th>\n",
       "      <th>frame.time_relative</th>\n",
       "      <th>udp.stream</th>\n",
       "      <th>remote_ip2num</th>\n",
       "      <th>is_tcp</th>\n",
       "      <th>is_udp</th>\n",
       "    </tr>\n",
       "  </thead>\n",
       "  <tbody>\n",
       "    <tr>\n",
       "      <th>count</th>\n",
       "      <td>90721.000000</td>\n",
       "      <td>90721.000000</td>\n",
       "      <td>90721.000000</td>\n",
       "      <td>90721.000000</td>\n",
       "      <td>90721.0</td>\n",
       "      <td>9.072100e+04</td>\n",
       "      <td>90721.0</td>\n",
       "      <td>90721.0</td>\n",
       "    </tr>\n",
       "    <tr>\n",
       "      <th>mean</th>\n",
       "      <td>31246.701602</td>\n",
       "      <td>23437.298398</td>\n",
       "      <td>118.941590</td>\n",
       "      <td>846.325453</td>\n",
       "      <td>0.0</td>\n",
       "      <td>3.225464e+09</td>\n",
       "      <td>0.0</td>\n",
       "      <td>1.0</td>\n",
       "    </tr>\n",
       "    <tr>\n",
       "      <th>std</th>\n",
       "      <td>21847.933608</td>\n",
       "      <td>21847.933608</td>\n",
       "      <td>179.081308</td>\n",
       "      <td>386.548324</td>\n",
       "      <td>0.0</td>\n",
       "      <td>0.000000e+00</td>\n",
       "      <td>0.0</td>\n",
       "      <td>0.0</td>\n",
       "    </tr>\n",
       "    <tr>\n",
       "      <th>min</th>\n",
       "      <td>5148.000000</td>\n",
       "      <td>5148.000000</td>\n",
       "      <td>16.000000</td>\n",
       "      <td>0.000000</td>\n",
       "      <td>0.0</td>\n",
       "      <td>3.225464e+09</td>\n",
       "      <td>0.0</td>\n",
       "      <td>1.0</td>\n",
       "    </tr>\n",
       "    <tr>\n",
       "      <th>25%</th>\n",
       "      <td>5148.000000</td>\n",
       "      <td>5148.000000</td>\n",
       "      <td>26.000000</td>\n",
       "      <td>522.687446</td>\n",
       "      <td>0.0</td>\n",
       "      <td>3.225464e+09</td>\n",
       "      <td>0.0</td>\n",
       "      <td>1.0</td>\n",
       "    </tr>\n",
       "    <tr>\n",
       "      <th>50%</th>\n",
       "      <td>49536.000000</td>\n",
       "      <td>5148.000000</td>\n",
       "      <td>42.000000</td>\n",
       "      <td>848.139542</td>\n",
       "      <td>0.0</td>\n",
       "      <td>3.225464e+09</td>\n",
       "      <td>0.0</td>\n",
       "      <td>1.0</td>\n",
       "    </tr>\n",
       "    <tr>\n",
       "      <th>75%</th>\n",
       "      <td>49536.000000</td>\n",
       "      <td>49536.000000</td>\n",
       "      <td>105.000000</td>\n",
       "      <td>1174.963175</td>\n",
       "      <td>0.0</td>\n",
       "      <td>3.225464e+09</td>\n",
       "      <td>0.0</td>\n",
       "      <td>1.0</td>\n",
       "    </tr>\n",
       "    <tr>\n",
       "      <th>max</th>\n",
       "      <td>49536.000000</td>\n",
       "      <td>49536.000000</td>\n",
       "      <td>1004.000000</td>\n",
       "      <td>1515.886330</td>\n",
       "      <td>0.0</td>\n",
       "      <td>3.225464e+09</td>\n",
       "      <td>0.0</td>\n",
       "      <td>1.0</td>\n",
       "    </tr>\n",
       "  </tbody>\n",
       "</table>\n",
       "</div>"
      ],
      "text/plain": [
       "        udp.srcport   udp.dstport       pkt_len  frame.time_relative  \\\n",
       "count  90721.000000  90721.000000  90721.000000         90721.000000   \n",
       "mean   31246.701602  23437.298398    118.941590           846.325453   \n",
       "std    21847.933608  21847.933608    179.081308           386.548324   \n",
       "min     5148.000000   5148.000000     16.000000             0.000000   \n",
       "25%     5148.000000   5148.000000     26.000000           522.687446   \n",
       "50%    49536.000000   5148.000000     42.000000           848.139542   \n",
       "75%    49536.000000  49536.000000    105.000000          1174.963175   \n",
       "max    49536.000000  49536.000000   1004.000000          1515.886330   \n",
       "\n",
       "       udp.stream  remote_ip2num   is_tcp   is_udp  \n",
       "count     90721.0   9.072100e+04  90721.0  90721.0  \n",
       "mean          0.0   3.225464e+09      0.0      1.0  \n",
       "std           0.0   0.000000e+00      0.0      0.0  \n",
       "min           0.0   3.225464e+09      0.0      1.0  \n",
       "25%           0.0   3.225464e+09      0.0      1.0  \n",
       "50%           0.0   3.225464e+09      0.0      1.0  \n",
       "75%           0.0   3.225464e+09      0.0      1.0  \n",
       "max           0.0   3.225464e+09      0.0      1.0  "
      ]
     },
     "execution_count": 13,
     "metadata": {},
     "output_type": "execute_result"
    }
   ],
   "source": [
    "# view the statistical features of each numerical feature\n",
    "udp_pkt_feature_df.describe()"
   ]
  },
  {
   "cell_type": "code",
   "execution_count": 14,
   "metadata": {},
   "outputs": [
    {
     "data": {
      "text/html": [
       "<div>\n",
       "<style scoped>\n",
       "    .dataframe tbody tr th:only-of-type {\n",
       "        vertical-align: middle;\n",
       "    }\n",
       "\n",
       "    .dataframe tbody tr th {\n",
       "        vertical-align: top;\n",
       "    }\n",
       "\n",
       "    .dataframe thead th {\n",
       "        text-align: right;\n",
       "    }\n",
       "</style>\n",
       "<table border=\"1\" class=\"dataframe\">\n",
       "  <thead>\n",
       "    <tr style=\"text-align: right;\">\n",
       "      <th></th>\n",
       "      <th>ip.src</th>\n",
       "      <th>ip.dst</th>\n",
       "      <th>udp.srcport</th>\n",
       "      <th>udp.dstport</th>\n",
       "      <th>pkt_len</th>\n",
       "      <th>frame.time_relative</th>\n",
       "      <th>udp.stream</th>\n",
       "      <th>remote_ip</th>\n",
       "      <th>remote_ip2num</th>\n",
       "      <th>protocol</th>\n",
       "      <th>is_tcp</th>\n",
       "      <th>is_udp</th>\n",
       "    </tr>\n",
       "  </thead>\n",
       "  <tbody>\n",
       "    <tr>\n",
       "      <th>0</th>\n",
       "      <td>172.16.26.207</td>\n",
       "      <td>192.64.172.62</td>\n",
       "      <td>49536</td>\n",
       "      <td>5148</td>\n",
       "      <td>60</td>\n",
       "      <td>0.000000</td>\n",
       "      <td>0</td>\n",
       "      <td>192.64.172.62</td>\n",
       "      <td>3225463870</td>\n",
       "      <td>udp</td>\n",
       "      <td>0</td>\n",
       "      <td>1</td>\n",
       "    </tr>\n",
       "    <tr>\n",
       "      <th>1</th>\n",
       "      <td>192.64.172.62</td>\n",
       "      <td>172.16.26.207</td>\n",
       "      <td>5148</td>\n",
       "      <td>49536</td>\n",
       "      <td>48</td>\n",
       "      <td>0.025155</td>\n",
       "      <td>0</td>\n",
       "      <td>192.64.172.62</td>\n",
       "      <td>3225463870</td>\n",
       "      <td>udp</td>\n",
       "      <td>0</td>\n",
       "      <td>1</td>\n",
       "    </tr>\n",
       "    <tr>\n",
       "      <th>2</th>\n",
       "      <td>172.16.26.207</td>\n",
       "      <td>192.64.172.62</td>\n",
       "      <td>49536</td>\n",
       "      <td>5148</td>\n",
       "      <td>26</td>\n",
       "      <td>0.025456</td>\n",
       "      <td>0</td>\n",
       "      <td>192.64.172.62</td>\n",
       "      <td>3225463870</td>\n",
       "      <td>udp</td>\n",
       "      <td>0</td>\n",
       "      <td>1</td>\n",
       "    </tr>\n",
       "    <tr>\n",
       "      <th>3</th>\n",
       "      <td>172.16.26.207</td>\n",
       "      <td>192.64.172.62</td>\n",
       "      <td>49536</td>\n",
       "      <td>5148</td>\n",
       "      <td>24</td>\n",
       "      <td>0.489487</td>\n",
       "      <td>0</td>\n",
       "      <td>192.64.172.62</td>\n",
       "      <td>3225463870</td>\n",
       "      <td>udp</td>\n",
       "      <td>0</td>\n",
       "      <td>1</td>\n",
       "    </tr>\n",
       "    <tr>\n",
       "      <th>4</th>\n",
       "      <td>192.64.172.62</td>\n",
       "      <td>172.16.26.207</td>\n",
       "      <td>5148</td>\n",
       "      <td>49536</td>\n",
       "      <td>18</td>\n",
       "      <td>0.519920</td>\n",
       "      <td>0</td>\n",
       "      <td>192.64.172.62</td>\n",
       "      <td>3225463870</td>\n",
       "      <td>udp</td>\n",
       "      <td>0</td>\n",
       "      <td>1</td>\n",
       "    </tr>\n",
       "  </tbody>\n",
       "</table>\n",
       "</div>"
      ],
      "text/plain": [
       "          ip.src         ip.dst  udp.srcport  udp.dstport  pkt_len  \\\n",
       "0  172.16.26.207  192.64.172.62        49536         5148       60   \n",
       "1  192.64.172.62  172.16.26.207         5148        49536       48   \n",
       "2  172.16.26.207  192.64.172.62        49536         5148       26   \n",
       "3  172.16.26.207  192.64.172.62        49536         5148       24   \n",
       "4  192.64.172.62  172.16.26.207         5148        49536       18   \n",
       "\n",
       "   frame.time_relative  udp.stream      remote_ip  remote_ip2num protocol  \\\n",
       "0             0.000000           0  192.64.172.62     3225463870      udp   \n",
       "1             0.025155           0  192.64.172.62     3225463870      udp   \n",
       "2             0.025456           0  192.64.172.62     3225463870      udp   \n",
       "3             0.489487           0  192.64.172.62     3225463870      udp   \n",
       "4             0.519920           0  192.64.172.62     3225463870      udp   \n",
       "\n",
       "   is_tcp  is_udp  \n",
       "0       0       1  \n",
       "1       0       1  \n",
       "2       0       1  \n",
       "3       0       1  \n",
       "4       0       1  "
      ]
     },
     "execution_count": 14,
     "metadata": {},
     "output_type": "execute_result"
    }
   ],
   "source": [
    "# view the first 5 records\n",
    "udp_pkt_feature_df.head()"
   ]
  },
  {
   "cell_type": "markdown",
   "metadata": {},
   "source": [
    "## Combine TCP with UDP packets"
   ]
  },
  {
   "cell_type": "code",
   "execution_count": 15,
   "metadata": {},
   "outputs": [],
   "source": [
    "# combine dataframes\n",
    "pkt_feature_df = tcp_pkt_feature_df[['remote_ip2num','is_tcp','is_udp','pkt_len']].append(udp_pkt_feature_df[['remote_ip2num','is_tcp','is_udp','pkt_len']],ignore_index=True)"
   ]
  },
  {
   "cell_type": "code",
   "execution_count": 17,
   "metadata": {},
   "outputs": [
    {
     "data": {
      "text/plain": [
       "(90721, 4)"
      ]
     },
     "execution_count": 17,
     "metadata": {},
     "output_type": "execute_result"
    }
   ],
   "source": [
    "# shape\n",
    "pkt_feature_df.shape"
   ]
  },
  {
   "cell_type": "code",
   "execution_count": 20,
   "metadata": {},
   "outputs": [
    {
     "data": {
      "text/plain": [
       "remote_ip2num    object\n",
       "is_tcp           object\n",
       "is_udp           object\n",
       "pkt_len          object\n",
       "dtype: object"
      ]
     },
     "execution_count": 20,
     "metadata": {},
     "output_type": "execute_result"
    }
   ],
   "source": [
    "# column types\n",
    "pkt_feature_df.dtypes"
   ]
  },
  {
   "cell_type": "code",
   "execution_count": 18,
   "metadata": {},
   "outputs": [
    {
     "data": {
      "text/html": [
       "<div>\n",
       "<style scoped>\n",
       "    .dataframe tbody tr th:only-of-type {\n",
       "        vertical-align: middle;\n",
       "    }\n",
       "\n",
       "    .dataframe tbody tr th {\n",
       "        vertical-align: top;\n",
       "    }\n",
       "\n",
       "    .dataframe thead th {\n",
       "        text-align: right;\n",
       "    }\n",
       "</style>\n",
       "<table border=\"1\" class=\"dataframe\">\n",
       "  <thead>\n",
       "    <tr style=\"text-align: right;\">\n",
       "      <th></th>\n",
       "      <th>remote_ip2num</th>\n",
       "      <th>is_tcp</th>\n",
       "      <th>is_udp</th>\n",
       "      <th>pkt_len</th>\n",
       "    </tr>\n",
       "  </thead>\n",
       "  <tbody>\n",
       "    <tr>\n",
       "      <th>count</th>\n",
       "      <td>90721</td>\n",
       "      <td>90721</td>\n",
       "      <td>90721</td>\n",
       "      <td>90721</td>\n",
       "    </tr>\n",
       "    <tr>\n",
       "      <th>unique</th>\n",
       "      <td>1</td>\n",
       "      <td>1</td>\n",
       "      <td>1</td>\n",
       "      <td>982</td>\n",
       "    </tr>\n",
       "    <tr>\n",
       "      <th>top</th>\n",
       "      <td>3225463870</td>\n",
       "      <td>0</td>\n",
       "      <td>1</td>\n",
       "      <td>26</td>\n",
       "    </tr>\n",
       "    <tr>\n",
       "      <th>freq</th>\n",
       "      <td>90721</td>\n",
       "      <td>90721</td>\n",
       "      <td>90721</td>\n",
       "      <td>22708</td>\n",
       "    </tr>\n",
       "  </tbody>\n",
       "</table>\n",
       "</div>"
      ],
      "text/plain": [
       "        remote_ip2num  is_tcp  is_udp  pkt_len\n",
       "count           90721   90721   90721    90721\n",
       "unique              1       1       1      982\n",
       "top        3225463870       0       1       26\n",
       "freq            90721   90721   90721    22708"
      ]
     },
     "execution_count": 18,
     "metadata": {},
     "output_type": "execute_result"
    }
   ],
   "source": [
    "# describe\n",
    "pkt_feature_df.describe()"
   ]
  },
  {
   "cell_type": "code",
   "execution_count": 19,
   "metadata": {},
   "outputs": [
    {
     "data": {
      "text/html": [
       "<div>\n",
       "<style scoped>\n",
       "    .dataframe tbody tr th:only-of-type {\n",
       "        vertical-align: middle;\n",
       "    }\n",
       "\n",
       "    .dataframe tbody tr th {\n",
       "        vertical-align: top;\n",
       "    }\n",
       "\n",
       "    .dataframe thead th {\n",
       "        text-align: right;\n",
       "    }\n",
       "</style>\n",
       "<table border=\"1\" class=\"dataframe\">\n",
       "  <thead>\n",
       "    <tr style=\"text-align: right;\">\n",
       "      <th></th>\n",
       "      <th>remote_ip2num</th>\n",
       "      <th>is_tcp</th>\n",
       "      <th>is_udp</th>\n",
       "      <th>pkt_len</th>\n",
       "    </tr>\n",
       "  </thead>\n",
       "  <tbody>\n",
       "    <tr>\n",
       "      <th>0</th>\n",
       "      <td>3225463870</td>\n",
       "      <td>0</td>\n",
       "      <td>1</td>\n",
       "      <td>60</td>\n",
       "    </tr>\n",
       "    <tr>\n",
       "      <th>1</th>\n",
       "      <td>3225463870</td>\n",
       "      <td>0</td>\n",
       "      <td>1</td>\n",
       "      <td>48</td>\n",
       "    </tr>\n",
       "    <tr>\n",
       "      <th>2</th>\n",
       "      <td>3225463870</td>\n",
       "      <td>0</td>\n",
       "      <td>1</td>\n",
       "      <td>26</td>\n",
       "    </tr>\n",
       "    <tr>\n",
       "      <th>3</th>\n",
       "      <td>3225463870</td>\n",
       "      <td>0</td>\n",
       "      <td>1</td>\n",
       "      <td>24</td>\n",
       "    </tr>\n",
       "    <tr>\n",
       "      <th>4</th>\n",
       "      <td>3225463870</td>\n",
       "      <td>0</td>\n",
       "      <td>1</td>\n",
       "      <td>18</td>\n",
       "    </tr>\n",
       "  </tbody>\n",
       "</table>\n",
       "</div>"
      ],
      "text/plain": [
       "  remote_ip2num is_tcp is_udp pkt_len\n",
       "0    3225463870      0      1      60\n",
       "1    3225463870      0      1      48\n",
       "2    3225463870      0      1      26\n",
       "3    3225463870      0      1      24\n",
       "4    3225463870      0      1      18"
      ]
     },
     "execution_count": 19,
     "metadata": {},
     "output_type": "execute_result"
    }
   ],
   "source": [
    "# head 5 records\n",
    "pkt_feature_df.head()"
   ]
  },
  {
   "cell_type": "code",
   "execution_count": 22,
   "metadata": {},
   "outputs": [],
   "source": [
    "# write to csv\n",
    "pkt_feature_df.to_csv(TRACE_PACKET_FEATURE_FILE_NAME)"
   ]
  },
  {
   "cell_type": "code",
   "execution_count": null,
   "metadata": {},
   "outputs": [],
   "source": []
  }
 ],
 "metadata": {
  "kernelspec": {
   "display_name": "Python 3",
   "language": "python",
   "name": "python3"
  },
  "language_info": {
   "codemirror_mode": {
    "name": "ipython",
    "version": 3
   },
   "file_extension": ".py",
   "mimetype": "text/x-python",
   "name": "python",
   "nbconvert_exporter": "python",
   "pygments_lexer": "ipython3",
   "version": "3.6.4"
  }
 },
 "nbformat": 4,
 "nbformat_minor": 2
}
