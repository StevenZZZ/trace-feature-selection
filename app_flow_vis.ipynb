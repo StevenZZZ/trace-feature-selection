{
 "cells": [
  {
   "cell_type": "code",
   "execution_count": 39,
   "metadata": {},
   "outputs": [],
   "source": [
    "import pandas as pd\n",
    "import matplotlib.pyplot as plt\n",
    "%matplotlib inline\n",
    "import os"
   ]
  },
  {
   "cell_type": "code",
   "execution_count": 40,
   "metadata": {},
   "outputs": [],
   "source": [
    "class Trace:\n",
    "    def __init__(self, trace_prefix, type):\n",
    "        self._trace_prefix=trace_prefix\n",
    "        self._type=type\n",
    "    \n",
    "    @property\n",
    "    def trace_prefix(self):\n",
    "        return self._trace_prefix\n",
    "    \n",
    "    @property\n",
    "    def type(self):\n",
    "        return self._type"
   ]
  },
  {
   "cell_type": "code",
   "execution_count": 41,
   "metadata": {},
   "outputs": [],
   "source": [
    "LOCAL_DATA_PATH='data'\n",
    "\n",
    "APP_TYPE = {\n",
    "    'streaming_video': 'Streaming Video',\n",
    "    'voip':'VoIP',\n",
    "    'app_download':'Application Downloads',\n",
    "    'online_game':'Online Game'\n",
    "}\n",
    "APP2APP_TYPE = {\n",
    "    'bilibili':APP_TYPE['streaming_video'],\n",
    "    'Skype_HongKong':APP_TYPE['voip'],\n",
    "    'wechat_video':APP_TYPE['voip'],\n",
    "    'APP_DOWNLOAD':APP_TYPE['app_download'],\n",
    "    'google_drive_download':APP_TYPE['app_download'],\n",
    "    'LOL_AI':APP_TYPE['online_game'],\n",
    "    'netease_game':APP_TYPE['online_game'],\n",
    "    'tencent_game_na':APP_TYPE['online_game']\n",
    "}\n",
    "FEATURE_LEVEL={'flow':'flow', 'pkt':'pkt'}\n",
    "FEATURE_FILE_TYPE = 'csv'\n",
    "PROTOCOLS=['udp', 'tcp']\n",
    "\n",
    "youtube = Trace(trace_prefix='youtube', type=APP_TYPE['streaming_video'])\n",
    "bilibili = Trace(trace_prefix='bilibili', type=APP_TYPE['streaming_video'])\n",
    "skype = Trace(trace_prefix='Skype_HongKong', type=APP_TYPE['voip'])\n",
    "wechat = Trace(trace_prefix='wechat_video', type=APP_TYPE['voip'])\n",
    "mac_app_store = Trace(trace_prefix='APP_DOWNLOAD', type=APP_TYPE['app_download'])\n",
    "google_drive = Trace(trace_prefix='google_drive_download', type=APP_TYPE['app_download'])\n",
    "lol = Trace(trace_prefix='LOL_AI', type=APP_TYPE['online_game'])\n",
    "netease = Trace(trace_prefix='netease_game', type=APP_TYPE['online_game'])\n",
    "tencent = Trace(trace_prefix='tencent_game_na', type=APP_TYPE['online_game'])\n",
    "\n",
    "TRACES=[youtube, bilibili, skype, wechat, mac_app_store, google_drive, lol,\n",
    "       netease, tencent]"
   ]
  },
  {
   "cell_type": "code",
   "execution_count": 42,
   "metadata": {},
   "outputs": [],
   "source": [
    "def get_tcp_udp_info(trace_name, feature_level, file_type):\n",
    "    udp_filename = os.path.join(LOCAL_DATA_PATH, '{trace_name}_udp_{feature_level}.{file_type}'\n",
    "                                .format(trace_name=trace_name, feature_level=feature_level, file_type=file_type))\n",
    "    tcp_filename = os.path.join(LOCAL_DATA_PATH, '{trace_name}_tcp_{feature_level}.{file_type}'\n",
    "                                .format(trace_name=trace_name, feature_level=feature_level, file_type=file_type))\n",
    "    udp_info, tcp_info = pd.read_csv(udp_filename), pd.read_csv(tcp_filename)\n",
    "    return tcp_info.shape[0], udp_info.shape[0]\n",
    "\n",
    "def get_app_type_feature(trace, file_type):\n",
    "    tcp_flow_num, udp_flow_num = get_tcp_udp_info(trace.trace_prefix, FEATURE_LEVEL['flow'], FEATURE_FILE_TYPE)\n",
    "    category = trace.type\n",
    "    return {\n",
    "        'category':category,\n",
    "        'total number flow': tcp_flow_num+udp_flow_num,\n",
    "        'tcp flow number': tcp_flow_num,\n",
    "        'udp flow number': udp_flow_num\n",
    "    }"
   ]
  },
  {
   "cell_type": "code",
   "execution_count": 43,
   "metadata": {},
   "outputs": [
    {
     "ename": "AttributeError",
     "evalue": "'Trace' object has no attribute 'name'",
     "output_type": "error",
     "traceback": [
      "\u001b[0;31m---------------------------------------------------------------------------\u001b[0m",
      "\u001b[0;31mAttributeError\u001b[0m                            Traceback (most recent call last)",
      "\u001b[0;32m<ipython-input-43-13c5ae6dabda>\u001b[0m in \u001b[0;36m<module>\u001b[0;34m()\u001b[0m\n\u001b[1;32m      1\u001b[0m \u001b[0mflow_per_app_type\u001b[0m \u001b[0;34m=\u001b[0m \u001b[0mpd\u001b[0m\u001b[0;34m.\u001b[0m\u001b[0mDataFrame\u001b[0m\u001b[0;34m(\u001b[0m\u001b[0mcolumns\u001b[0m\u001b[0;34m=\u001b[0m\u001b[0;34m[\u001b[0m\u001b[0;34m'category'\u001b[0m\u001b[0;34m,\u001b[0m \u001b[0;34m'total number flow'\u001b[0m\u001b[0;34m,\u001b[0m \u001b[0;34m'tcp flow number'\u001b[0m\u001b[0;34m,\u001b[0m \u001b[0;34m'udp flow number'\u001b[0m\u001b[0;34m]\u001b[0m\u001b[0;34m)\u001b[0m\u001b[0;34m\u001b[0m\u001b[0m\n\u001b[1;32m      2\u001b[0m \u001b[0;32mfor\u001b[0m \u001b[0mtrace\u001b[0m \u001b[0;32min\u001b[0m \u001b[0mTRACES\u001b[0m\u001b[0;34m:\u001b[0m\u001b[0;34m\u001b[0m\u001b[0m\n\u001b[0;32m----> 3\u001b[0;31m     \u001b[0mflow_feature\u001b[0m \u001b[0;34m=\u001b[0m \u001b[0mget_app_type_feature\u001b[0m\u001b[0;34m(\u001b[0m\u001b[0mtrace\u001b[0m\u001b[0;34m,\u001b[0m \u001b[0mFEATURE_FILE_TYPE\u001b[0m\u001b[0;34m)\u001b[0m\u001b[0;34m\u001b[0m\u001b[0m\n\u001b[0m\u001b[1;32m      4\u001b[0m     \u001b[0mflow_per_app_type\u001b[0m \u001b[0;34m=\u001b[0m \u001b[0mflow_per_app_type\u001b[0m\u001b[0;34m.\u001b[0m\u001b[0mappend\u001b[0m\u001b[0;34m(\u001b[0m\u001b[0mflow_feature\u001b[0m\u001b[0;34m,\u001b[0m \u001b[0mignore_index\u001b[0m\u001b[0;34m=\u001b[0m\u001b[0;32mTrue\u001b[0m\u001b[0;34m)\u001b[0m\u001b[0;34m\u001b[0m\u001b[0m\n\u001b[1;32m      5\u001b[0m \u001b[0;34m\u001b[0m\u001b[0m\n",
      "\u001b[0;32m<ipython-input-42-a612efecf890>\u001b[0m in \u001b[0;36mget_app_type_feature\u001b[0;34m(trace, file_type)\u001b[0m\n\u001b[1;32m      8\u001b[0m \u001b[0;34m\u001b[0m\u001b[0m\n\u001b[1;32m      9\u001b[0m \u001b[0;32mdef\u001b[0m \u001b[0mget_app_type_feature\u001b[0m\u001b[0;34m(\u001b[0m\u001b[0mtrace\u001b[0m\u001b[0;34m,\u001b[0m \u001b[0mfile_type\u001b[0m\u001b[0;34m)\u001b[0m\u001b[0;34m:\u001b[0m\u001b[0;34m\u001b[0m\u001b[0m\n\u001b[0;32m---> 10\u001b[0;31m     \u001b[0mtcp_flow_num\u001b[0m\u001b[0;34m,\u001b[0m \u001b[0mudp_flow_num\u001b[0m \u001b[0;34m=\u001b[0m \u001b[0mget_tcp_udp_info\u001b[0m\u001b[0;34m(\u001b[0m\u001b[0mtrace\u001b[0m\u001b[0;34m.\u001b[0m\u001b[0mname\u001b[0m\u001b[0;34m,\u001b[0m \u001b[0mFEATURE_LEVEL\u001b[0m\u001b[0;34m[\u001b[0m\u001b[0;34m'flow'\u001b[0m\u001b[0;34m]\u001b[0m\u001b[0;34m,\u001b[0m \u001b[0mFEATURE_FILE_TYPE\u001b[0m\u001b[0;34m)\u001b[0m\u001b[0;34m\u001b[0m\u001b[0m\n\u001b[0m\u001b[1;32m     11\u001b[0m     \u001b[0mcategory\u001b[0m \u001b[0;34m=\u001b[0m \u001b[0mtrace\u001b[0m\u001b[0;34m.\u001b[0m\u001b[0mtype\u001b[0m\u001b[0;34m\u001b[0m\u001b[0m\n\u001b[1;32m     12\u001b[0m     return {\n",
      "\u001b[0;31mAttributeError\u001b[0m: 'Trace' object has no attribute 'name'"
     ]
    }
   ],
   "source": [
    "flow_per_app_type = pd.DataFrame(columns=['category', 'total number flow', 'tcp flow number', 'udp flow number'])\n",
    "for trace in TRACES:\n",
    "    flow_feature = get_app_type_feature(trace, FEATURE_FILE_TYPE)\n",
    "    flow_per_app_type = flow_per_app_type.append(flow_feature, ignore_index=True)\n",
    "        \n",
    "flow_per_app_type.groupby('category').sum().reset_index()"
   ]
  },
  {
   "cell_type": "code",
   "execution_count": null,
   "metadata": {},
   "outputs": [],
   "source": []
  }
 ],
 "metadata": {
  "kernelspec": {
   "display_name": "Python 3",
   "language": "python",
   "name": "python3"
  },
  "language_info": {
   "codemirror_mode": {
    "name": "ipython",
    "version": 3
   },
   "file_extension": ".py",
   "mimetype": "text/x-python",
   "name": "python",
   "nbconvert_exporter": "python",
   "pygments_lexer": "ipython3",
   "version": "3.6.4"
  }
 },
 "nbformat": 4,
 "nbformat_minor": 2
}
