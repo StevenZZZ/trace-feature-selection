{
 "cells": [
  {
   "cell_type": "code",
   "execution_count": 1,
   "metadata": {},
   "outputs": [],
   "source": [
    "import os\n",
    "import os.path\n",
    "import sys\n",
    "import pandas as pd\n",
    "import numpy as np"
   ]
  },
  {
   "cell_type": "code",
   "execution_count": 2,
   "metadata": {},
   "outputs": [],
   "source": [
    "LOCAL_PATH = 'data/'\n",
    "RAW_TRACE = 'CAP_NIC1_00931_20130727230801.dms'\n",
    "TRACE_CSV_FILE = 'trace.csv'"
   ]
  },
  {
   "cell_type": "code",
   "execution_count": 3,
   "metadata": {},
   "outputs": [],
   "source": [
    "if not os.path.exists(LOCAL_PATH + RAW_TRACE):\n",
    "    if not os.path.exists(LOCAL_PATH):\n",
    "        os.mkdir(LOCAL_PATH)\n",
    "    \n",
    "    import boto3\n",
    "    import botocore\n",
    "\n",
    "    BUCKET_NAME = 'edu.nyu.hsn.ddos-data' # replace with your bucket name\n",
    "    KEY = 'CAP_NIC1_00931_20130727230801.dms' # replace with your object key\n",
    "\n",
    "    s3 = boto3.resource('s3')\n",
    "\n",
    "    try:\n",
    "        s3.Bucket(BUCKET_NAME).download_file(KEY, LOCAL_PATH + RAW_TRACE)\n",
    "    except botocore.exceptions.ClientError as e:\n",
    "        if e.response['Error']['Code'] == \"404\":\n",
    "            print(\"The object does not exist.\")\n",
    "        else:\n",
    "            raise"
   ]
  },
  {
   "cell_type": "code",
   "execution_count": 4,
   "metadata": {},
   "outputs": [],
   "source": [
    "import subprocess\n",
    "if not os.path.exists(LOCAL_PATH + TRACE_CSV_FILE):\n",
    "    tshark_command = subprocess.Popen('tshark -r {} -Y tcp -T fields -e ip.src -e ip.dst -e tcp.srcport -e tcp.dstport -e tcp.len -e frame.time_relative -e tcp.seq -e tcp.ack -e tcp.flags.syn -e tcp.flags.fin -Eheader=y -Eseparator=, > {}'.format(LOCAL_PATH + RAW_TRACE, LOCAL_PATH + TRACE_CSV_FILE), shell=True, stdout=subprocess.PIPE, stderr=subprocess.PIPE)\n",
    "    out_data, err_data = tshark_command.communicate()\n",
    "    out_data, err_data = out_data.decode('utf-8'), err_data.decode('utf-8')\n",
    "    if err_data != '':\n",
    "        print(err_data)"
   ]
  },
  {
   "cell_type": "code",
   "execution_count": 5,
   "metadata": {},
   "outputs": [],
   "source": [
    "trace_df = pd.read_csv(LOCAL_PATH + TRACE_CSV_FILE)"
   ]
  },
  {
   "cell_type": "code",
   "execution_count": 6,
   "metadata": {},
   "outputs": [
    {
     "data": {
      "text/plain": [
       "(3275767, 10)"
      ]
     },
     "execution_count": 6,
     "metadata": {},
     "output_type": "execute_result"
    }
   ],
   "source": [
    "trace_df.shape"
   ]
  },
  {
   "cell_type": "code",
   "execution_count": 7,
   "metadata": {},
   "outputs": [
    {
     "data": {
      "text/plain": [
       "Index(['ip.src', 'ip.dst', 'tcp.srcport', 'tcp.dstport', 'tcp.len',\n",
       "       'frame.time_relative', 'tcp.seq', 'tcp.ack', 'tcp.flags.syn',\n",
       "       'tcp.flags.fin'],\n",
       "      dtype='object')"
      ]
     },
     "execution_count": 7,
     "metadata": {},
     "output_type": "execute_result"
    }
   ],
   "source": [
    "trace_df.columns"
   ]
  },
  {
   "cell_type": "code",
   "execution_count": 8,
   "metadata": {},
   "outputs": [
    {
     "data": {
      "text/html": [
       "<div>\n",
       "<style scoped>\n",
       "    .dataframe tbody tr th:only-of-type {\n",
       "        vertical-align: middle;\n",
       "    }\n",
       "\n",
       "    .dataframe tbody tr th {\n",
       "        vertical-align: top;\n",
       "    }\n",
       "\n",
       "    .dataframe thead th {\n",
       "        text-align: right;\n",
       "    }\n",
       "</style>\n",
       "<table border=\"1\" class=\"dataframe\">\n",
       "  <thead>\n",
       "    <tr style=\"text-align: right;\">\n",
       "      <th></th>\n",
       "      <th>tcp.srcport</th>\n",
       "      <th>tcp.dstport</th>\n",
       "      <th>tcp.len</th>\n",
       "      <th>frame.time_relative</th>\n",
       "      <th>tcp.seq</th>\n",
       "      <th>tcp.ack</th>\n",
       "      <th>tcp.flags.syn</th>\n",
       "      <th>tcp.flags.fin</th>\n",
       "    </tr>\n",
       "  </thead>\n",
       "  <tbody>\n",
       "    <tr>\n",
       "      <th>count</th>\n",
       "      <td>3.275767e+06</td>\n",
       "      <td>3.275767e+06</td>\n",
       "      <td>3.275767e+06</td>\n",
       "      <td>3.275767e+06</td>\n",
       "      <td>3.275767e+06</td>\n",
       "      <td>3.275767e+06</td>\n",
       "      <td>3.275767e+06</td>\n",
       "      <td>3.275767e+06</td>\n",
       "    </tr>\n",
       "    <tr>\n",
       "      <th>mean</th>\n",
       "      <td>1.959040e+04</td>\n",
       "      <td>1.189782e+04</td>\n",
       "      <td>1.001266e+03</td>\n",
       "      <td>2.770661e+01</td>\n",
       "      <td>3.896565e+08</td>\n",
       "      <td>5.583203e+07</td>\n",
       "      <td>6.052323e-03</td>\n",
       "      <td>5.241521e-03</td>\n",
       "    </tr>\n",
       "    <tr>\n",
       "      <th>std</th>\n",
       "      <td>2.130404e+04</td>\n",
       "      <td>1.709713e+04</td>\n",
       "      <td>6.454179e+02</td>\n",
       "      <td>1.189198e+01</td>\n",
       "      <td>4.620892e+08</td>\n",
       "      <td>1.584937e+08</td>\n",
       "      <td>7.756091e-02</td>\n",
       "      <td>7.220837e-02</td>\n",
       "    </tr>\n",
       "    <tr>\n",
       "      <th>min</th>\n",
       "      <td>2.100000e+01</td>\n",
       "      <td>2.100000e+01</td>\n",
       "      <td>0.000000e+00</td>\n",
       "      <td>0.000000e+00</td>\n",
       "      <td>0.000000e+00</td>\n",
       "      <td>0.000000e+00</td>\n",
       "      <td>0.000000e+00</td>\n",
       "      <td>0.000000e+00</td>\n",
       "    </tr>\n",
       "    <tr>\n",
       "      <th>25%</th>\n",
       "      <td>4.450000e+02</td>\n",
       "      <td>2.770000e+03</td>\n",
       "      <td>1.180000e+02</td>\n",
       "      <td>1.734808e+01</td>\n",
       "      <td>8.033140e+05</td>\n",
       "      <td>1.000000e+00</td>\n",
       "      <td>0.000000e+00</td>\n",
       "      <td>0.000000e+00</td>\n",
       "    </tr>\n",
       "    <tr>\n",
       "      <th>50%</th>\n",
       "      <td>2.770000e+03</td>\n",
       "      <td>2.901000e+03</td>\n",
       "      <td>1.460000e+03</td>\n",
       "      <td>2.784759e+01</td>\n",
       "      <td>2.364588e+08</td>\n",
       "      <td>3.034090e+05</td>\n",
       "      <td>0.000000e+00</td>\n",
       "      <td>0.000000e+00</td>\n",
       "    </tr>\n",
       "    <tr>\n",
       "      <th>75%</th>\n",
       "      <td>4.092000e+04</td>\n",
       "      <td>9.876000e+03</td>\n",
       "      <td>1.460000e+03</td>\n",
       "      <td>3.792557e+01</td>\n",
       "      <td>6.421602e+08</td>\n",
       "      <td>1.348768e+06</td>\n",
       "      <td>0.000000e+00</td>\n",
       "      <td>0.000000e+00</td>\n",
       "    </tr>\n",
       "    <tr>\n",
       "      <th>max</th>\n",
       "      <td>6.553400e+04</td>\n",
       "      <td>6.551600e+04</td>\n",
       "      <td>1.460000e+03</td>\n",
       "      <td>4.828968e+01</td>\n",
       "      <td>4.294967e+09</td>\n",
       "      <td>4.294967e+09</td>\n",
       "      <td>1.000000e+00</td>\n",
       "      <td>1.000000e+00</td>\n",
       "    </tr>\n",
       "  </tbody>\n",
       "</table>\n",
       "</div>"
      ],
      "text/plain": [
       "        tcp.srcport   tcp.dstport       tcp.len  frame.time_relative  \\\n",
       "count  3.275767e+06  3.275767e+06  3.275767e+06         3.275767e+06   \n",
       "mean   1.959040e+04  1.189782e+04  1.001266e+03         2.770661e+01   \n",
       "std    2.130404e+04  1.709713e+04  6.454179e+02         1.189198e+01   \n",
       "min    2.100000e+01  2.100000e+01  0.000000e+00         0.000000e+00   \n",
       "25%    4.450000e+02  2.770000e+03  1.180000e+02         1.734808e+01   \n",
       "50%    2.770000e+03  2.901000e+03  1.460000e+03         2.784759e+01   \n",
       "75%    4.092000e+04  9.876000e+03  1.460000e+03         3.792557e+01   \n",
       "max    6.553400e+04  6.551600e+04  1.460000e+03         4.828968e+01   \n",
       "\n",
       "            tcp.seq       tcp.ack  tcp.flags.syn  tcp.flags.fin  \n",
       "count  3.275767e+06  3.275767e+06   3.275767e+06   3.275767e+06  \n",
       "mean   3.896565e+08  5.583203e+07   6.052323e-03   5.241521e-03  \n",
       "std    4.620892e+08  1.584937e+08   7.756091e-02   7.220837e-02  \n",
       "min    0.000000e+00  0.000000e+00   0.000000e+00   0.000000e+00  \n",
       "25%    8.033140e+05  1.000000e+00   0.000000e+00   0.000000e+00  \n",
       "50%    2.364588e+08  3.034090e+05   0.000000e+00   0.000000e+00  \n",
       "75%    6.421602e+08  1.348768e+06   0.000000e+00   0.000000e+00  \n",
       "max    4.294967e+09  4.294967e+09   1.000000e+00   1.000000e+00  "
      ]
     },
     "execution_count": 8,
     "metadata": {},
     "output_type": "execute_result"
    }
   ],
   "source": [
    "trace_df.describe()"
   ]
  },
  {
   "cell_type": "code",
   "execution_count": 9,
   "metadata": {},
   "outputs": [],
   "source": [
    "def extract_tcp_tuple(record):\n",
    "    return (record['ip.src'], record['tcp.srcport'], record['ip.dst'], record['tcp.dstport'])\n",
    "\n",
    "def reverse_tcp_tuple(tcp_tuple):\n",
    "    return (tcp_tuple[2], tcp_tuple[3], tcp_tuple[0], tcp_tuple[1])\n",
    "\n",
    "def is_in(record, pcap_statistics):\n",
    "    time_delta_threshold = 60\n",
    "    tcp_tuple = extract_tcp_tuple(record)\n",
    "    reversed_tcp_tuple = reverse_tcp_tuple(tcp_tuple)\n",
    "    if tcp_tuple not in pcap_statistics and reversed_tcp_tuple not in pcap_statistics:\n",
    "        return False\n",
    "    else:\n",
    "        tcp_flow_list = pcap_statistics[tcp_tuple] if tcp_tuple in pcap_statistics else pcap_statistics[reversed_tcp_tuple]\n",
    "        last_tcp_flow = tcp_flow_list[-1]\n",
    "        return record['frame.time_relative'] - (last_tcp_flow['rel_start'] + last_tcp_flow['duration']) <= time_delta_threshold\n",
    "\n",
    "def extract_useful_info(record):\n",
    "    useful_info = {\\\n",
    "        \"src_ip\":record['ip.src'],\\\n",
    "        \"src_port\":record['tcp.srcport'],\\\n",
    "        \"dst_ip\":record['ip.dst'],\\\n",
    "        \"dst_port\":record['tcp.dstport'],\\\n",
    "        \"rel_start\":record['frame.time_relative'],\\\n",
    "        \"duration\":0,\\\n",
    "        \"packet_count\":1,\\\n",
    "        \"byte_count\":record['tcp.len'],\\\n",
    "        \"forward_packet_count\":1,\\\n",
    "        \"forward_byte_count\":record['tcp.len'],\\\n",
    "        \"backward_packet_count\":0,\\\n",
    "        \"backward_byte_count\":0,\\\n",
    "        \"inter_arrival_time_summed\":0\\\n",
    "    }\n",
    "    return useful_info\n",
    "\n",
    "def add_in_statistics(pcap_statistics, tcp_tuple, record):\n",
    "    if tcp_tuple not in pcap_statistics:\n",
    "        pcap_statistics[tcp_tuple] = []\n",
    "    pcap_statistics[tcp_tuple].append(extract_useful_info(record))\n",
    "    return pcap_statistics\n",
    "\n",
    "def update_statistics_info(pcap_statistics,tcp_tuple,record,is_forward_stream):\n",
    "    pcap_statistics[tcp_tuple][-1]['inter_arrival_time_summed'] += record['frame.time_relative'] - (pcap_statistics[tcp_tuple][-1]['rel_start'] + pcap_statistics[tcp_tuple][-1]['duration'])\n",
    "    pcap_statistics[tcp_tuple][-1]['duration'] = max(pcap_statistics[tcp_tuple][-1]['duration'], record['frame.time_relative'] - pcap_statistics[tcp_tuple][-1]['rel_start'])\n",
    "    pcap_statistics[tcp_tuple][-1]['packet_count'] += 1\n",
    "    pcap_statistics[tcp_tuple][-1]['byte_count'] += record['tcp.len']\n",
    "    if is_forward_stream:\n",
    "        pcap_statistics[tcp_tuple][-1]['forward_packet_count'] += 1\n",
    "        pcap_statistics[tcp_tuple][-1]['forward_byte_count'] += record['tcp.len']\n",
    "    else:\n",
    "        pcap_statistics[tcp_tuple][-1]['backward_packet_count'] += 1\n",
    "        pcap_statistics[tcp_tuple][-1]['backward_byte_count'] += record['tcp.len']\n",
    "    return pcap_statistics\n",
    "\n",
    "def update_statistics(pcap_statistics, tcp_tuple, record):  \n",
    "    if tcp_tuple in pcap_statistics:\n",
    "        return update_statistics_info(pcap_statistics,tcp_tuple,record,is_forward_stream=True)\n",
    "    else:\n",
    "        return update_statistics_info(pcap_statistics,reverse_tcp_tuple(tcp_tuple),record,is_forward_stream=False)\n",
    "\n",
    "def flatten_dict(pcap_tcp_statistics):\n",
    "    result_dict = []\n",
    "    for tcp_tuple, tcp_flow_list in pcap_tcp_statistics.items():\n",
    "        for tcp_flow in tcp_flow_list:\n",
    "            result_dict.append(tcp_flow)\n",
    "    return result_dict"
   ]
  },
  {
   "cell_type": "code",
   "execution_count": 17,
   "metadata": {},
   "outputs": [],
   "source": [
    "import time\n",
    "from tqdm import tqdm\n",
    "def to_feature_df(pcap_df,drop_rate = 0.0):\n",
    "    pcap_tcp_statistics = {}\n",
    "    np.random.seed(int(time.time()))\n",
    "    for index, row in tqdm(pcap_df.iterrows()):\n",
    "        rand = np.random.rand()\n",
    "        if rand >= drop_rate:\n",
    "            tcp_tuple = extract_tcp_tuple(row)\n",
    "            if not is_in(row, pcap_tcp_statistics):\n",
    "                add_in_statistics(pcap_tcp_statistics, tcp_tuple, row)\n",
    "            else:\n",
    "                update_statistics(pcap_tcp_statistics, tcp_tuple, row)\n",
    "    pcap_tcp_statistics = flatten_dict(pcap_tcp_statistics)\n",
    "    return pd.DataFrame(pcap_tcp_statistics).rename(columns=\\\n",
    "                {\\\n",
    "                 'backward_byte_count': 'back_byte',\\\n",
    "                 'backward_packet_count': 'back_pkt',\\\n",
    "                 'byte_count':'tot_byte',\\\n",
    "                 'forward_byte_count':'forw_byte',\\\n",
    "                 'forward_packet_count':'forw_pkt',\\\n",
    "                 'packet_count':'tot_packet'\\\n",
    "                })"
   ]
  },
  {
   "cell_type": "code",
   "execution_count": 18,
   "metadata": {},
   "outputs": [
    {
     "name": "stderr",
     "output_type": "stream",
     "text": [
      "3275767it [07:06, 7684.62it/s]\n",
      "3275767it [08:19, 6553.66it/s]\n",
      "3275767it [10:47, 5061.41it/s]\n",
      "3275767it [12:48, 4259.94it/s]\n",
      "3275767it [14:28, 3771.52it/s]\n"
     ]
    }
   ],
   "source": [
    "# packet-based random sampling\n",
    "for sampling_percent in range(20,101,20):\n",
    "    drop_percent = 100 - sampling_percent\n",
    "    drop_rate = drop_percent / 100.0\n",
    "    to_feature_df(trace_df, drop_rate).to_csv('{PATH}packet_rand_{PERCENT}%.csv'.format(PATH=LOCAL_PATH,PERCENT=sampling_percent),index=False)"
   ]
  },
  {
   "cell_type": "code",
   "execution_count": null,
   "metadata": {},
   "outputs": [],
   "source": []
  }
 ],
 "metadata": {
  "kernelspec": {
   "display_name": "Python 3",
   "language": "python",
   "name": "python3"
  },
  "language_info": {
   "codemirror_mode": {
    "name": "ipython",
    "version": 3
   },
   "file_extension": ".py",
   "mimetype": "text/x-python",
   "name": "python",
   "nbconvert_exporter": "python",
   "pygments_lexer": "ipython3",
   "version": "3.6.4"
  }
 },
 "nbformat": 4,
 "nbformat_minor": 2
}
