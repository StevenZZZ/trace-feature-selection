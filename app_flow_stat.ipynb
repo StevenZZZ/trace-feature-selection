{
 "cells": [
  {
   "cell_type": "markdown",
   "metadata": {
    "deletable": true,
    "editable": true
   },
   "source": [
    "## Flow(Total, TCP and UDP) per application type"
   ]
  },
  {
   "cell_type": "code",
   "execution_count": 1,
   "metadata": {
    "collapsed": true
   },
   "outputs": [],
   "source": [
    "import pandas as pd\n",
    "import matplotlib.pyplot as plt\n",
    "%matplotlib inline\n",
    "import os"
   ]
  },
  {
   "cell_type": "code",
   "execution_count": 2,
   "metadata": {
    "collapsed": true,
    "deletable": true,
    "editable": true
   },
   "outputs": [],
   "source": [
    "class Trace:\n",
    "    def __init__(self, trace_prefix, type):\n",
    "        self._trace_prefix=trace_prefix\n",
    "        self._type=type\n",
    "    \n",
    "    @property\n",
    "    def trace_prefix(self):\n",
    "        return self._trace_prefix\n",
    "    \n",
    "    @property\n",
    "    def type(self):\n",
    "        return self._type\n",
    "\n",
    "class ApplicationType:\n",
    "    STREAMING_VIDEO='Streaming Video'\n",
    "    VOIP='VoIP'\n",
    "    APP_DOWNLOAD='Application Downloads'\n",
    "    ONLINE_GAME='Online Game'\n",
    "\n",
    "class FeatureLevel:\n",
    "    FLOW='flow'\n",
    "    PACKET='pkt'\n",
    "\n",
    "class Protocol:\n",
    "    UDP='udp'\n",
    "    TCP='tcp'"
   ]
  },
  {
   "cell_type": "code",
   "execution_count": 3,
   "metadata": {
    "collapsed": true,
    "deletable": true,
    "editable": true
   },
   "outputs": [],
   "source": [
    "LOCAL_DATA_PATH='data'\n",
    "FEATURE_FILE_TYPE = 'csv'\n",
    "\n",
    "youtube = Trace(trace_prefix='youtube', type=ApplicationType.STREAMING_VIDEO)\n",
    "bilibili = Trace(trace_prefix='bilibili', type=ApplicationType.STREAMING_VIDEO)\n",
    "skype = Trace(trace_prefix='Skype_HongKong', type=ApplicationType.VOIP)\n",
    "wechat = Trace(trace_prefix='wechat_video', type=ApplicationType.VOIP)\n",
    "mac_app_store = Trace(trace_prefix='APP_DOWNLOAD', type=ApplicationType.APP_DOWNLOAD)\n",
    "google_drive = Trace(trace_prefix='google_drive_download', type=ApplicationType.APP_DOWNLOAD)\n",
    "lol = Trace(trace_prefix='LOL_AI', type=ApplicationType.ONLINE_GAME)\n",
    "netease = Trace(trace_prefix='netease_game', type=ApplicationType.ONLINE_GAME)\n",
    "tencent = Trace(trace_prefix='tencent_game_na', type=ApplicationType.ONLINE_GAME)\n",
    "\n",
    "TRACES=[youtube, bilibili, skype, wechat, mac_app_store, google_drive, lol, netease, tencent]"
   ]
  },
  {
   "cell_type": "code",
   "execution_count": 4,
   "metadata": {
    "collapsed": true,
    "deletable": true,
    "editable": true
   },
   "outputs": [],
   "source": [
    "def get_tcp_udp_info(trace_name, feature_level, file_type):\n",
    "    udp_filename = os.path.join(LOCAL_DATA_PATH, '{trace_name}_{udp}_{feature_level}.{file_type}'\n",
    "                                .format(trace_name=trace_name, udp=Protocol.UDP, feature_level=feature_level, file_type=file_type))\n",
    "    tcp_filename = os.path.join(LOCAL_DATA_PATH, '{trace_name}_{tcp}_{feature_level}.{file_type}'\n",
    "                                .format(trace_name=trace_name, tcp=Protocol.TCP, feature_level=feature_level, file_type=file_type))\n",
    "    udp_info, tcp_info = pd.read_csv(udp_filename).dropna(axis=0, how='any'), pd.read_csv(tcp_filename).dropna(axis=0, how='any')\n",
    "    return tcp_info.shape[0], udp_info.shape[0]\n",
    "\n",
    "def get_app_type_feature(trace, file_type):\n",
    "    tcp_flow_num, udp_flow_num = get_tcp_udp_info(trace.trace_prefix, FeatureLevel.FLOW, FEATURE_FILE_TYPE)\n",
    "    category = trace.type\n",
    "    return {\n",
    "        'category':category,\n",
    "        'total number flow': tcp_flow_num+udp_flow_num,\n",
    "        'tcp flow number': tcp_flow_num,\n",
    "        'udp flow number': udp_flow_num\n",
    "    }"
   ]
  },
  {
   "cell_type": "code",
   "execution_count": 11,
   "metadata": {
    "collapsed": false,
    "deletable": true,
    "editable": true
   },
   "outputs": [
    {
     "ename": "TypeError",
     "evalue": "(\"'int' object is not callable\", 'occurred at index total number flow')",
     "output_type": "error",
     "traceback": [
      "\u001b[0;31m---------------------------------------------------------------------------\u001b[0m",
      "\u001b[0;31mTypeError\u001b[0m                                 Traceback (most recent call last)",
      "\u001b[0;32m<ipython-input-11-5aa490a8db0c>\u001b[0m in \u001b[0;36m<module>\u001b[0;34m()\u001b[0m\n\u001b[1;32m      5\u001b[0m \u001b[0;34m\u001b[0m\u001b[0m\n\u001b[1;32m      6\u001b[0m \u001b[0mflow_per_app_type\u001b[0m \u001b[0;34m=\u001b[0m \u001b[0mflow_per_app_type\u001b[0m\u001b[0;34m.\u001b[0m\u001b[0mgroupby\u001b[0m\u001b[0;34m(\u001b[0m\u001b[0;34m'category'\u001b[0m\u001b[0;34m)\u001b[0m\u001b[0;34m.\u001b[0m\u001b[0msum\u001b[0m\u001b[0;34m(\u001b[0m\u001b[0;34m)\u001b[0m\u001b[0;34m.\u001b[0m\u001b[0mreset_index\u001b[0m\u001b[0;34m(\u001b[0m\u001b[0;34m)\u001b[0m\u001b[0;34m\u001b[0m\u001b[0m\n\u001b[0;32m----> 7\u001b[0;31m \u001b[0mflow_per_app_type\u001b[0m\u001b[0;34m[\u001b[0m\u001b[0;34m[\u001b[0m\u001b[0;34m'total number flow'\u001b[0m\u001b[0;34m,\u001b[0m\u001b[0;34m'tcp flow number'\u001b[0m\u001b[0;34m,\u001b[0m\u001b[0;34m'udp flow number'\u001b[0m\u001b[0;34m]\u001b[0m\u001b[0;34m]\u001b[0m \u001b[0;34m=\u001b[0m \u001b[0mflow_per_app_type\u001b[0m\u001b[0;34m[\u001b[0m\u001b[0;34m[\u001b[0m\u001b[0;34m'total number flow'\u001b[0m\u001b[0;34m,\u001b[0m\u001b[0;34m'tcp flow number'\u001b[0m\u001b[0;34m,\u001b[0m\u001b[0;34m'udp flow number'\u001b[0m\u001b[0;34m]\u001b[0m\u001b[0;34m]\u001b[0m\u001b[0;34m.\u001b[0m\u001b[0mapply\u001b[0m\u001b[0;34m(\u001b[0m\u001b[0mint\u001b[0m\u001b[0;34m(\u001b[0m\u001b[0;34m)\u001b[0m\u001b[0;34m)\u001b[0m\u001b[0;34m\u001b[0m\u001b[0m\n\u001b[0m\u001b[1;32m      8\u001b[0m \u001b[0mflow_per_app_type\u001b[0m\u001b[0;34m\u001b[0m\u001b[0m\n",
      "\u001b[0;32m/share/apps/python3/3.5.3/intel/lib/python3.5/site-packages/pandas-0.19.2-py3.5-linux-x86_64.egg/pandas/core/frame.py\u001b[0m in \u001b[0;36mapply\u001b[0;34m(self, func, axis, broadcast, raw, reduce, args, **kwds)\u001b[0m\n\u001b[1;32m   4150\u001b[0m                     \u001b[0;32mif\u001b[0m \u001b[0mreduce\u001b[0m \u001b[0;32mis\u001b[0m \u001b[0;32mNone\u001b[0m\u001b[0;34m:\u001b[0m\u001b[0;34m\u001b[0m\u001b[0m\n\u001b[1;32m   4151\u001b[0m                         \u001b[0mreduce\u001b[0m \u001b[0;34m=\u001b[0m \u001b[0;32mTrue\u001b[0m\u001b[0;34m\u001b[0m\u001b[0m\n\u001b[0;32m-> 4152\u001b[0;31m                     \u001b[0;32mreturn\u001b[0m \u001b[0mself\u001b[0m\u001b[0;34m.\u001b[0m\u001b[0m_apply_standard\u001b[0m\u001b[0;34m(\u001b[0m\u001b[0mf\u001b[0m\u001b[0;34m,\u001b[0m \u001b[0maxis\u001b[0m\u001b[0;34m,\u001b[0m \u001b[0mreduce\u001b[0m\u001b[0;34m=\u001b[0m\u001b[0mreduce\u001b[0m\u001b[0;34m)\u001b[0m\u001b[0;34m\u001b[0m\u001b[0m\n\u001b[0m\u001b[1;32m   4153\u001b[0m             \u001b[0;32melse\u001b[0m\u001b[0;34m:\u001b[0m\u001b[0;34m\u001b[0m\u001b[0m\n\u001b[1;32m   4154\u001b[0m                 \u001b[0;32mreturn\u001b[0m \u001b[0mself\u001b[0m\u001b[0;34m.\u001b[0m\u001b[0m_apply_broadcast\u001b[0m\u001b[0;34m(\u001b[0m\u001b[0mf\u001b[0m\u001b[0;34m,\u001b[0m \u001b[0maxis\u001b[0m\u001b[0;34m)\u001b[0m\u001b[0;34m\u001b[0m\u001b[0m\n",
      "\u001b[0;32m/share/apps/python3/3.5.3/intel/lib/python3.5/site-packages/pandas-0.19.2-py3.5-linux-x86_64.egg/pandas/core/frame.py\u001b[0m in \u001b[0;36m_apply_standard\u001b[0;34m(self, func, axis, ignore_failures, reduce)\u001b[0m\n\u001b[1;32m   4246\u001b[0m             \u001b[0;32mtry\u001b[0m\u001b[0;34m:\u001b[0m\u001b[0;34m\u001b[0m\u001b[0m\n\u001b[1;32m   4247\u001b[0m                 \u001b[0;32mfor\u001b[0m \u001b[0mi\u001b[0m\u001b[0;34m,\u001b[0m \u001b[0mv\u001b[0m \u001b[0;32min\u001b[0m \u001b[0menumerate\u001b[0m\u001b[0;34m(\u001b[0m\u001b[0mseries_gen\u001b[0m\u001b[0;34m)\u001b[0m\u001b[0;34m:\u001b[0m\u001b[0;34m\u001b[0m\u001b[0m\n\u001b[0;32m-> 4248\u001b[0;31m                     \u001b[0mresults\u001b[0m\u001b[0;34m[\u001b[0m\u001b[0mi\u001b[0m\u001b[0;34m]\u001b[0m \u001b[0;34m=\u001b[0m \u001b[0mfunc\u001b[0m\u001b[0;34m(\u001b[0m\u001b[0mv\u001b[0m\u001b[0;34m)\u001b[0m\u001b[0;34m\u001b[0m\u001b[0m\n\u001b[0m\u001b[1;32m   4249\u001b[0m                     \u001b[0mkeys\u001b[0m\u001b[0;34m.\u001b[0m\u001b[0mappend\u001b[0m\u001b[0;34m(\u001b[0m\u001b[0mv\u001b[0m\u001b[0;34m.\u001b[0m\u001b[0mname\u001b[0m\u001b[0;34m)\u001b[0m\u001b[0;34m\u001b[0m\u001b[0m\n\u001b[1;32m   4250\u001b[0m             \u001b[0;32mexcept\u001b[0m \u001b[0mException\u001b[0m \u001b[0;32mas\u001b[0m \u001b[0me\u001b[0m\u001b[0;34m:\u001b[0m\u001b[0;34m\u001b[0m\u001b[0m\n",
      "\u001b[0;31mTypeError\u001b[0m: (\"'int' object is not callable\", 'occurred at index total number flow')"
     ]
    }
   ],
   "source": [
    "flow_per_app_type = pd.DataFrame(columns=['category', 'total number flow', 'tcp flow number', 'udp flow number'])\n",
    "for trace in TRACES:\n",
    "    flow_feature = get_app_type_feature(trace, FEATURE_FILE_TYPE)\n",
    "    flow_per_app_type = flow_per_app_type.append(flow_feature, ignore_index=True)\n",
    "        \n",
    "flow_per_app_type = flow_per_app_type.groupby('category').sum().reset_index()\n",
    "flow_per_app_type[['total number flow','tcp flow number','udp flow number']] = flow_per_app_type[['total number flow','tcp flow number','udp flow number']].apply(int())\n",
    "flow_per_app_type"
   ]
  },
  {
   "cell_type": "code",
   "execution_count": null,
   "metadata": {
    "collapsed": true,
    "deletable": true,
    "editable": true
   },
   "outputs": [],
   "source": []
  }
 ],
 "metadata": {
  "kernelspec": {
   "display_name": "Python 3",
   "language": "python",
   "name": "python3"
  },
  "language_info": {
   "codemirror_mode": {
    "name": "ipython",
    "version": 3
   },
   "file_extension": ".py",
   "mimetype": "text/x-python",
   "name": "python",
   "nbconvert_exporter": "python",
   "pygments_lexer": "ipython3",
   "version": "3.5.3"
  }
 },
 "nbformat": 4,
 "nbformat_minor": 2
}
