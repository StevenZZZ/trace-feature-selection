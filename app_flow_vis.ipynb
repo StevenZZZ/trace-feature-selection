{
 "cells": [
  {
   "cell_type": "code",
   "execution_count": 39,
   "metadata": {},
   "outputs": [],
   "source": [
    "import pandas as pd\n",
    "import matplotlib.pyplot as plt\n",
    "%matplotlib inline\n",
    "import os"
   ]
  },
  {
   "cell_type": "code",
   "execution_count": 40,
   "metadata": {},
   "outputs": [],
   "source": [
    "class Trace:\n",
    "    def __init__(self, trace_prefix, type):\n",
    "        self._trace_prefix=trace_prefix\n",
    "        self._type=type\n",
    "    \n",
    "    @property\n",
    "    def trace_prefix(self):\n",
    "        return self._trace_prefix\n",
    "    \n",
    "    @property\n",
    "    def type(self):\n",
    "        return self._type\n",
    "\n",
    "class ApplicationType:\n",
    "    STREAMING_VIDEO='Streaming Video'\n",
    "    VOIP='VoIP'\n",
    "    APP_DOWNLOAD='Application Downloads'\n",
    "    ONLINE_GAME='Online Game'"
   ]
  },
  {
   "cell_type": "code",
   "execution_count": 41,
   "metadata": {},
   "outputs": [],
   "source": [
    "LOCAL_DATA_PATH='data'\n",
    "FEATURE_LEVEL={'flow':'flow', 'pkt':'pkt'}\n",
    "FEATURE_FILE_TYPE = 'csv'\n",
    "PROTOCOLS=['udp', 'tcp']\n",
    "\n",
    "youtube = Trace(trace_prefix='youtube', type=ApplicationType.STREAMING_VIDEO)\n",
    "bilibili = Trace(trace_prefix='bilibili', type=ApplicationType.STREAMING_VIDEO)\n",
    "skype = Trace(trace_prefix='Skype_HongKong', type=ApplicationType.VOIP)\n",
    "wechat = Trace(trace_prefix='wechat_video', type=ApplicationType.VOIP)\n",
    "mac_app_store = Trace(trace_prefix='APP_DOWNLOAD', type=ApplicationType.APP_DOWNLOAD)\n",
    "google_drive = Trace(trace_prefix='google_drive_download', type=ApplicationType.APP_DOWNLOAD)\n",
    "lol = Trace(trace_prefix='LOL_AI', type=ApplicationType.ONLINE_GAME)\n",
    "netease = Trace(trace_prefix='netease_game', type=ApplicationType.ONLINE_GAME)\n",
    "tencent = Trace(trace_prefix='tencent_game_na', type=ApplicationType.ONLINE_GAME)\n",
    "\n",
    "TRACES=[youtube, bilibili, skype, wechat, mac_app_store, google_drive, lol,\n",
    "       netease, tencent]"
   ]
  },
  {
   "cell_type": "code",
   "execution_count": 44,
   "metadata": {},
   "outputs": [],
   "source": [
    "def get_tcp_udp_info(trace_name, feature_level, file_type):\n",
    "    udp_filename = os.path.join(LOCAL_DATA_PATH, '{trace_name}_udp_{feature_level}.{file_type}'\n",
    "                                .format(trace_name=trace_name, feature_level=feature_level, file_type=file_type))\n",
    "    tcp_filename = os.path.join(LOCAL_DATA_PATH, '{trace_name}_tcp_{feature_level}.{file_type}'\n",
    "                                .format(trace_name=trace_name, feature_level=feature_level, file_type=file_type))\n",
    "    udp_info, tcp_info = pd.read_csv(udp_filename), pd.read_csv(tcp_filename)\n",
    "    return tcp_info.shape[0], udp_info.shape[0]\n",
    "\n",
    "def get_app_type_feature(trace, file_type):\n",
    "    tcp_flow_num, udp_flow_num = get_tcp_udp_info(trace.trace_prefix, FEATURE_LEVEL['flow'], FEATURE_FILE_TYPE)\n",
    "    category = trace.type\n",
    "    return {\n",
    "        'category':category,\n",
    "        'total number flow': tcp_flow_num+udp_flow_num,\n",
    "        'tcp flow number': tcp_flow_num,\n",
    "        'udp flow number': udp_flow_num\n",
    "    }"
   ]
  },
  {
   "cell_type": "code",
   "execution_count": 45,
   "metadata": {},
   "outputs": [
    {
     "data": {
      "text/html": [
       "<div>\n",
       "<style scoped>\n",
       "    .dataframe tbody tr th:only-of-type {\n",
       "        vertical-align: middle;\n",
       "    }\n",
       "\n",
       "    .dataframe tbody tr th {\n",
       "        vertical-align: top;\n",
       "    }\n",
       "\n",
       "    .dataframe thead th {\n",
       "        text-align: right;\n",
       "    }\n",
       "</style>\n",
       "<table border=\"1\" class=\"dataframe\">\n",
       "  <thead>\n",
       "    <tr style=\"text-align: right;\">\n",
       "      <th></th>\n",
       "      <th>category</th>\n",
       "      <th>total number flow</th>\n",
       "      <th>tcp flow number</th>\n",
       "      <th>udp flow number</th>\n",
       "    </tr>\n",
       "  </thead>\n",
       "  <tbody>\n",
       "    <tr>\n",
       "      <th>0</th>\n",
       "      <td>Application Downloads</td>\n",
       "      <td>884</td>\n",
       "      <td>845</td>\n",
       "      <td>39</td>\n",
       "    </tr>\n",
       "    <tr>\n",
       "      <th>1</th>\n",
       "      <td>Online Game</td>\n",
       "      <td>9765</td>\n",
       "      <td>2089</td>\n",
       "      <td>7676</td>\n",
       "    </tr>\n",
       "    <tr>\n",
       "      <th>2</th>\n",
       "      <td>Streaming Video</td>\n",
       "      <td>1505</td>\n",
       "      <td>1327</td>\n",
       "      <td>178</td>\n",
       "    </tr>\n",
       "    <tr>\n",
       "      <th>3</th>\n",
       "      <td>VoIP</td>\n",
       "      <td>9408</td>\n",
       "      <td>4070</td>\n",
       "      <td>5338</td>\n",
       "    </tr>\n",
       "  </tbody>\n",
       "</table>\n",
       "</div>"
      ],
      "text/plain": [
       "                category  total number flow  tcp flow number  udp flow number\n",
       "0  Application Downloads                884              845               39\n",
       "1            Online Game               9765             2089             7676\n",
       "2        Streaming Video               1505             1327              178\n",
       "3                   VoIP               9408             4070             5338"
      ]
     },
     "execution_count": 45,
     "metadata": {},
     "output_type": "execute_result"
    }
   ],
   "source": [
    "flow_per_app_type = pd.DataFrame(columns=['category', 'total number flow', 'tcp flow number', 'udp flow number'])\n",
    "for trace in TRACES:\n",
    "    flow_feature = get_app_type_feature(trace, FEATURE_FILE_TYPE)\n",
    "    flow_per_app_type = flow_per_app_type.append(flow_feature, ignore_index=True)\n",
    "        \n",
    "flow_per_app_type.groupby('category').sum().reset_index()"
   ]
  },
  {
   "cell_type": "code",
   "execution_count": null,
   "metadata": {},
   "outputs": [],
   "source": []
  }
 ],
 "metadata": {
  "kernelspec": {
   "display_name": "Python 3",
   "language": "python",
   "name": "python3"
  },
  "language_info": {
   "codemirror_mode": {
    "name": "ipython",
    "version": 3
   },
   "file_extension": ".py",
   "mimetype": "text/x-python",
   "name": "python",
   "nbconvert_exporter": "python",
   "pygments_lexer": "ipython3",
   "version": "3.6.4"
  }
 },
 "nbformat": 4,
 "nbformat_minor": 2
}
