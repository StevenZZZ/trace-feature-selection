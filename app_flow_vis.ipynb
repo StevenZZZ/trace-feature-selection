{
 "cells": [
  {
   "cell_type": "code",
   "execution_count": 1,
   "metadata": {},
   "outputs": [],
   "source": [
    "import pandas as pd\n",
    "import matplotlib.pyplot as plt\n",
    "%matplotlib inline\n",
    "import os"
   ]
  },
  {
   "cell_type": "code",
   "execution_count": 2,
   "metadata": {},
   "outputs": [],
   "source": [
    "LOCAL_DATA_PATH='data'\n",
    "TRACES=['youtube', 'bilibili']\n",
    "APP2APP_TYPE = {\n",
    "    'youtube':'streaming video',\n",
    "    'bilibili':'streaming video'\n",
    "}\n",
    "FEATURE_LEVEL={'flow':'flow', 'pkt':'pkt'}\n",
    "FEATURE_FILE_TYPE = 'csv'\n",
    "PROTOCOLS=['udp', 'tcp']"
   ]
  },
  {
   "cell_type": "code",
   "execution_count": 3,
   "metadata": {},
   "outputs": [],
   "source": [
    "def get_tcp_udp_info(trace_name, feature_level, file_type):\n",
    "    udp_filename = os.path.join(LOCAL_DATA_PATH, '{trace_name}_udp_{feature_level}.{file_type}'\n",
    "                                .format(trace_name=trace_name, feature_level=feature_level, file_type=file_type))\n",
    "    tcp_filename = os.path.join(LOCAL_DATA_PATH, '{trace_name}_tcp_{feature_level}.{file_type}'\n",
    "                                .format(trace_name=trace_name, feature_level=feature_level, file_type=file_type))\n",
    "    udp_info, tcp_info = pd.read_csv(udp_filename), pd.read_csv(tcp_filename)\n",
    "    return tcp_info.shape[0], udp_info.shape[0]\n",
    "\n",
    "def get_app_type_feature(trace_name, file_type):\n",
    "    tcp_flow_num, udp_flow_num = get_tcp_udp_info(trace_name, FEATURE_LEVEL['flow'], FEATURE_FILE_TYPE)\n",
    "    category = APP2APP_TYPE[trace_name]\n",
    "    return {\n",
    "        'category':category,\n",
    "        'total number flow': tcp_flow_num+udp_flow_num,\n",
    "        'tcp flow number': tcp_flow_num,\n",
    "        'udp flow number': udp_flow_num\n",
    "    }"
   ]
  },
  {
   "cell_type": "code",
   "execution_count": 8,
   "metadata": {},
   "outputs": [
    {
     "data": {
      "text/html": [
       "<div>\n",
       "<style scoped>\n",
       "    .dataframe tbody tr th:only-of-type {\n",
       "        vertical-align: middle;\n",
       "    }\n",
       "\n",
       "    .dataframe tbody tr th {\n",
       "        vertical-align: top;\n",
       "    }\n",
       "\n",
       "    .dataframe thead th {\n",
       "        text-align: right;\n",
       "    }\n",
       "</style>\n",
       "<table border=\"1\" class=\"dataframe\">\n",
       "  <thead>\n",
       "    <tr style=\"text-align: right;\">\n",
       "      <th></th>\n",
       "      <th>category</th>\n",
       "      <th>total number flow</th>\n",
       "      <th>tcp flow number</th>\n",
       "      <th>udp flow number</th>\n",
       "    </tr>\n",
       "  </thead>\n",
       "  <tbody>\n",
       "    <tr>\n",
       "      <th>0</th>\n",
       "      <td>streaming video</td>\n",
       "      <td>912</td>\n",
       "      <td>748</td>\n",
       "      <td>164</td>\n",
       "    </tr>\n",
       "    <tr>\n",
       "      <th>1</th>\n",
       "      <td>streaming video</td>\n",
       "      <td>593</td>\n",
       "      <td>579</td>\n",
       "      <td>14</td>\n",
       "    </tr>\n",
       "  </tbody>\n",
       "</table>\n",
       "</div>"
      ],
      "text/plain": [
       "          category total number flow tcp flow number udp flow number\n",
       "0  streaming video               912             748             164\n",
       "1  streaming video               593             579              14"
      ]
     },
     "execution_count": 8,
     "metadata": {},
     "output_type": "execute_result"
    }
   ],
   "source": [
    "flow_per_app_type = pd.DataFrame(columns=['category', 'total number flow', 'tcp flow number', 'udp flow number'])\n",
    "for trace in TRACES:\n",
    "    flow_feature = get_app_type_feature(trace, FEATURE_FILE_TYPE)\n",
    "    flow_per_app_type = flow_per_app_type.append(flow_feature, ignore_index=True)\n",
    "        \n",
    "flow_per_app_type.groupby('category').sum()912"
   ]
  },
  {
   "cell_type": "code",
   "execution_count": null,
   "metadata": {},
   "outputs": [],
   "source": []
  }
 ],
 "metadata": {
  "kernelspec": {
   "display_name": "Python 3",
   "language": "python",
   "name": "python3"
  },
  "language_info": {
   "codemirror_mode": {
    "name": "ipython",
    "version": 3
   },
   "file_extension": ".py",
   "mimetype": "text/x-python",
   "name": "python",
   "nbconvert_exporter": "python",
   "pygments_lexer": "ipython3",
   "version": "3.6.4"
  }
 },
 "nbformat": 4,
 "nbformat_minor": 2
}
