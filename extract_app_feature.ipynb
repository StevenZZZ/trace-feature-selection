{
 "cells": [
  {
   "cell_type": "code",
   "execution_count": 29,
   "metadata": {},
   "outputs": [],
   "source": [
    "import numpy as np\n",
    "import pandas as pd\n",
    "from importlib import reload"
   ]
  },
  {
   "cell_type": "code",
   "execution_count": 30,
   "metadata": {},
   "outputs": [],
   "source": [
    "# define constants\n",
    "TRACE_FILE_NAME = 'data/APP_DOWNLOAD.pcapng' # replace with your raw trace .pcapng/.pcap file name\n",
    "TRACE_PACKET_FEATURE_FILE_NAME = 'data/APP_DOWNLOAD_pkt.csv' # replace with your favorite packet feature .csv file name\n",
    "TRACE_FLOW_FEATURE_FILE_NAME = 'data/APP_DOWNLOAD_flow.csv' # replace with your favorite flow feature .csv file name"
   ]
  },
  {
   "cell_type": "code",
   "execution_count": null,
   "metadata": {},
   "outputs": [],
   "source": [
    "# convert raw trace to readable packet feature csv file\n",
    "from python import packet_feature\n",
    "reload(packet_feature)\n",
    "%time packet_feature.generate(TRACE_FILE_NAME,TRACE_PACKET_FEATURE_FILE_NAME)"
   ]
  },
  {
   "cell_type": "code",
   "execution_count": null,
   "metadata": {},
   "outputs": [],
   "source": [
    "# read in packet feature csv file and do some initialization\n",
    "pkt_feature_df = pd.read_csv(TRACE_PACKET_FEATURE_FILE_NAME)\n",
    "pkt_feature_df['src_addr'] = pkt_feature_df['ip.src'] + \":\" + pkt_feature_df['tcp.srcport'].apply(str)\n",
    "pkt_feature_df['dst_addr'] = pkt_feature_df['ip.dst'] + \":\" + pkt_feature_df['tcp.dstport'].apply(str)"
   ]
  },
  {
   "cell_type": "code",
   "execution_count": null,
   "metadata": {},
   "outputs": [],
   "source": [
    "# view the shape of the dataset: (number of records, number of features)\n",
    "pkt_feature_df.shape"
   ]
  },
  {
   "cell_type": "code",
   "execution_count": null,
   "metadata": {},
   "outputs": [],
   "source": [
    "# view the data types for each feature\n",
    "pkt_feature_df.dtypes"
   ]
  },
  {
   "cell_type": "code",
   "execution_count": null,
   "metadata": {},
   "outputs": [],
   "source": [
    "# view the statistical features of each numerical feature\n",
    "pkt_feature_df.describe()"
   ]
  },
  {
   "cell_type": "code",
   "execution_count": null,
   "metadata": {},
   "outputs": [],
   "source": [
    "# view the first 5 records\n",
    "pkt_feature_df.head()"
   ]
  },
  {
   "cell_type": "code",
   "execution_count": null,
   "metadata": {},
   "outputs": [],
   "source": [
    "# generate flow features from packet features\n",
    "from python import flow_feature\n",
    "reload(flow_feature)\n",
    "flow_feature_df = flow_feature.generate(pkt_feature_df)\n",
    "flow_feature_df.to_csv(TRACE_FLOW_FEATURE_FILE_NAME)"
   ]
  },
  {
   "cell_type": "code",
   "execution_count": null,
   "metadata": {},
   "outputs": [],
   "source": []
  }
 ],
 "metadata": {
  "kernelspec": {
   "display_name": "Python 3",
   "language": "python",
   "name": "python3"
  },
  "language_info": {
   "codemirror_mode": {
    "name": "ipython",
    "version": 3
   },
   "file_extension": ".py",
   "mimetype": "text/x-python",
   "name": "python",
   "nbconvert_exporter": "python",
   "pygments_lexer": "ipython3",
   "version": "3.6.4"
  }
 },
 "nbformat": 4,
 "nbformat_minor": 2
}
