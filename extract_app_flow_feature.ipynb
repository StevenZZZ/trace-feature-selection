{
 "cells": [
  {
   "cell_type": "code",
   "execution_count": 1,
   "metadata": {
    "collapsed": true,
    "deletable": true,
    "editable": true
   },
   "outputs": [],
   "source": [
    "import os\n",
    "import os.path\n",
    "import sys\n",
    "\n",
    "import pandas as pd\n",
    "import numpy as np\n",
    "from importlib import reload"
   ]
  },
  {
   "cell_type": "code",
   "execution_count": 43,
   "metadata": {
    "collapsed": true,
    "deletable": true,
    "editable": true
   },
   "outputs": [],
   "source": [
    "LOCAL_PATH = 'data'\n",
    "TRACE_NAME = 'youtube'\n",
    "RAW_TRACE = '{trace_name}.pcapng'.format(trace_name=TRACE_NAME)\n",
    "TCP_TRACE_FEATURE_FILE = '{trace_name}_tcp_pkt.csv'.format(trace_name=TRACE_NAME)\n",
    "UDP_TRACE_FEATURE_FILE = '{trace_name}_udp_pkt.csv'.format(trace_name=TRACE_NAME)\n",
    "TCP_FLOW_FEATURE_FILE = '{trace_name}_tcp_flow.csv'.format(trace_name=TRACE_NAME)\n",
    "UDP_FLOW_FEATURE_FILE = '{trace_name}_udp_flow.csv'.format(trace_name=TRACE_NAME)\n",
    "# BUCKET_NAME = '' # replace with your bucket name\n",
    "KEY = '' # replace with your object key"
   ]
  },
  {
   "cell_type": "code",
   "execution_count": 44,
   "metadata": {
    "collapsed": true,
    "deletable": true,
    "editable": true
   },
   "outputs": [],
   "source": [
    "if not os.path.exists(os.path.join(LOCAL_PATH, RAW_TRACE)):\n",
    "    if not os.path.exists(LOCAL_PATH):\n",
    "        os.mkdir(LOCAL_PATH)\n",
    "    \n",
    "    import boto3\n",
    "    import botocore\n",
    "\n",
    "    s3 = boto3.resource('s3')\n",
    "\n",
    "    try:\n",
    "        s3.Bucket(BUCKET_NAME).download_file(KEY, os.path.join(LOCAL_PATH, RAW_TRACE))\n",
    "    except botocore.exceptions.ClientError as e:\n",
    "        if e.response['Error']['Code'] == \"404\":\n",
    "            print(\"The object does not exist.\")\n",
    "        else:\n",
    "            raise"
   ]
  },
  {
   "cell_type": "code",
   "execution_count": 45,
   "metadata": {
    "collapsed": false,
    "deletable": true,
    "editable": true
   },
   "outputs": [
    {
     "name": "stdout",
     "output_type": "stream",
     "text": [
      "Packet feature file already exists.\n",
      "CPU times: user 8.86 ms, sys: 0 ns, total: 8.86 ms\n",
      "Wall time: 25.6 ms\n",
      "Packet feature file already exists.\n",
      "CPU times: user 1.8 s, sys: 32.2 ms, total: 1.83 s\n",
      "Wall time: 1.88 s\n"
     ]
    }
   ],
   "source": [
    "# convert raw trace to readable udp and tcp packet feature csv file\n",
    "from python import packet_feature\n",
    "reload(packet_feature)\n",
    "%time packet_feature.udp_generate(os.path.join(LOCAL_PATH, RAW_TRACE) , os.path.join(LOCAL_PATH, UDP_TRACE_FEATURE_FILE), is_cluster=True)\n",
    "%time packet_feature.tcp_generate(os.path.join(LOCAL_PATH, RAW_TRACE) , os.path.join(LOCAL_PATH, TCP_TRACE_FEATURE_FILE), is_cluster=True)"
   ]
  },
  {
   "cell_type": "code",
   "execution_count": 46,
   "metadata": {
    "collapsed": true,
    "deletable": true,
    "editable": true
   },
   "outputs": [],
   "source": [
    "def to_csv(trace_df, extract_func, file, features, max_byte_per_flow):\n",
    "    df = extract_func(trace_df, 1.0, upsampled=True, max_byte_per_flow=max_byte_per_flow)\n",
    "    if df.shape[0] == 0:\n",
    "        pd.DataFrame(columns=features).to_csv(file, index=False)\n",
    "    else:\n",
    "        df[features].to_csv(file, index=False)"
   ]
  },
  {
   "cell_type": "code",
   "execution_count": 47,
   "metadata": {
    "collapsed": false,
    "deletable": true,
    "editable": true
   },
   "outputs": [
    {
     "name": "stderr",
     "output_type": "stream",
     "text": [
      "tcp flow, flow byte limit->1048576: 65980it [00:27, 2438.91it/s]          \n",
      "/share/apps/python3/3.5.3/intel/lib/python3.5/site-packages/numpy-1.12.0-py3.5-linux-x86_64.egg/numpy/core/_methods.py:135: RuntimeWarning: Degrees of freedom <= 0 for slice\n",
      "  keepdims=keepdims)\n",
      "/share/apps/python3/3.5.3/intel/lib/python3.5/site-packages/numpy-1.12.0-py3.5-linux-x86_64.egg/numpy/core/_methods.py:127: RuntimeWarning: invalid value encountered in double_scalars\n",
      "  ret = ret.dtype.type(ret / rcount)\n",
      "udp flow, flow byte limit->1048576: 271it [00:00, 3270.42it/s]           \n"
     ]
    }
   ],
   "source": [
    "from python import flow_feature\n",
    "reload(flow_feature)\n",
    "\n",
    "FEATURES = ['avg(pkt_len)', 'stddev(pkt_len)', 'fb_ratio', 'inter_arrival_time', 'pkt_count', 'duration', 'tot_pkt_len', 'fwd_pkt_len', 'bwd_pkt_len']\n",
    "MAX_BYTE_PER_FLOW = 1 * 1024 * 1024 # 1MB\n",
    "\n",
    "tcp_trace_df = pd.read_csv(os.path.join(LOCAL_PATH, TCP_TRACE_FEATURE_FILE))\n",
    "udp_trace_df = pd.read_csv(os.path.join(LOCAL_PATH, UDP_TRACE_FEATURE_FILE))\n",
    "for trace_df in [tcp_trace_df, udp_trace_df]:\n",
    "    if tcp_trace_df is trace_df:\n",
    "        to_csv(trace_df, flow_feature.tcp_generate, os.path.join(LOCAL_PATH, TCP_FLOW_FEATURE_FILE), FEATURES, max_byte_per_flow=MAX_BYTE_PER_FLOW)\n",
    "    elif udp_trace_df is trace_df:\n",
    "        to_csv(trace_df, flow_feature.udp_generate, os.path.join(LOCAL_PATH, UDP_FLOW_FEATURE_FILE), FEATURES, max_byte_per_flow=MAX_BYTE_PER_FLOW)\n",
    "    else:\n",
    "        raise"
   ]
  },
  {
   "cell_type": "code",
   "execution_count": null,
   "metadata": {
    "collapsed": true,
    "deletable": true,
    "editable": true
   },
   "outputs": [],
   "source": []
  }
 ],
 "metadata": {
  "kernelspec": {
   "display_name": "Python 3",
   "language": "python",
   "name": "python3"
  },
  "language_info": {
   "codemirror_mode": {
    "name": "ipython",
    "version": 3
   },
   "file_extension": ".py",
   "mimetype": "text/x-python",
   "name": "python",
   "nbconvert_exporter": "python",
   "pygments_lexer": "ipython3",
   "version": "3.5.3"
  }
 },
 "nbformat": 4,
 "nbformat_minor": 2
}
