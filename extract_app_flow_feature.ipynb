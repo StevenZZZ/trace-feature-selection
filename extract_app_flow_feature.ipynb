{
 "cells": [
  {
   "cell_type": "code",
   "execution_count": 12,
   "metadata": {},
   "outputs": [],
   "source": [
    "import os\n",
    "import os.path\n",
    "import sys\n",
    "import pandas as pd\n",
    "import numpy as np\n",
    "from importlib import reload"
   ]
  },
  {
   "cell_type": "code",
   "execution_count": 13,
   "metadata": {},
   "outputs": [],
   "source": [
    "LOCAL_PATH = 'data'\n",
    "RAW_TRACE = 'Skype_HongKong.pcapng'\n",
    "TCP_TRACE_FEATURE_FILE = 'Skype_HongKong_tcp_pkt.csv'\n",
    "UDP_TRACE_FEATURE_FILE = 'Skype_HongKong_udp_pkt.csv'\n",
    "TCP_FLOW_FEATURE_FILE = 'Skype_HongKong_tcp_flow.csv'\n",
    "UDP_FLOW_FEATURE_FILE = 'Skype_HongKong_udp_flow.csv'\n",
    "# BUCKET_NAME = '' # replace with your bucket name\n",
    "# KEY = '' # replace with your object key"
   ]
  },
  {
   "cell_type": "code",
   "execution_count": 14,
   "metadata": {},
   "outputs": [],
   "source": [
    "if not os.path.exists(os.path.join(LOCAL_PATH, RAW_TRACE)):\n",
    "    if not os.path.exists(LOCAL_PATH):\n",
    "        os.mkdir(LOCAL_PATH)\n",
    "    \n",
    "    import boto3\n",
    "    import botocore\n",
    "\n",
    "    s3 = boto3.resource('s3')\n",
    "\n",
    "    try:\n",
    "        s3.Bucket(BUCKET_NAME).download_file(KEY, os.path.join(LOCAL_PATH, RAW_TRACE))\n",
    "    except botocore.exceptions.ClientError as e:\n",
    "        if e.response['Error']['Code'] == \"404\":\n",
    "            print(\"The object does not exist.\")\n",
    "        else:\n",
    "            raise"
   ]
  },
  {
   "cell_type": "code",
   "execution_count": 15,
   "metadata": {},
   "outputs": [
    {
     "name": "stdout",
     "output_type": "stream",
     "text": [
      "Conversion done\n",
      "CPU times: user 6.09 s, sys: 489 ms, total: 6.58 s\n",
      "Wall time: 47.4 s\n",
      "Conversion done\n",
      "CPU times: user 312 ms, sys: 39.4 ms, total: 351 ms\n",
      "Wall time: 28.8 s\n"
     ]
    }
   ],
   "source": [
    "# convert raw trace to readable udp and tcp packet feature csv file\n",
    "from python import packet_feature\n",
    "reload(packet_feature)\n",
    "%time packet_feature.udp_generate(os.path.join(LOCAL_PATH, RAW_TRACE) , os.path.join(LOCAL_PATH, UDP_TRACE_FEATURE_FILE))\n",
    "%time packet_feature.tcp_generate(os.path.join(LOCAL_PATH, RAW_TRACE) , os.path.join(LOCAL_PATH, TCP_TRACE_FEATURE_FILE))"
   ]
  },
  {
   "cell_type": "code",
   "execution_count": 18,
   "metadata": {},
   "outputs": [],
   "source": [
    "def to_csv(trace_df, extract_func, file, features, max_packets_per_flow):\n",
    "    extract_func(trace_df, 1.0, upsampled=True, max_packets_per_flow=max_packets_per_flow)[features].to_csv(file, index=False)"
   ]
  },
  {
   "cell_type": "code",
   "execution_count": 21,
   "metadata": {},
   "outputs": [
    {
     "name": "stderr",
     "output_type": "stream",
     "text": [
      "1.0 samp rate with upsampling: 100%|██████████| 717/717 [00:07<00:00, 93.76it/s] \n",
      "1.0 samp rate with upsampling: 100%|██████████| 211/211 [00:02<00:00, 87.49it/s] \n"
     ]
    }
   ],
   "source": [
    "from python import flow_feature\n",
    "reload(flow_feature)\n",
    "\n",
    "FEATURES = ['avg(pkt_len)', 'stddev(pkt_len)', 'fb_ratio', 'inter_arrival_time']\n",
    "\n",
    "tcp_trace_df = pd.read_csv(os.path.join(LOCAL_PATH, TCP_TRACE_FEATURE_FILE))\n",
    "udp_trace_df = pd.read_csv(os.path.join(LOCAL_PATH, UDP_TRACE_FEATURE_FILE))\n",
    "for trace_df in [tcp_trace_df, udp_trace_df]:\n",
    "    if tcp_trace_df is trace_df:\n",
    "        to_csv(trace_df, flow_feature.tcp_generate, os.path.join(LOCAL_PATH, TCP_FLOW_FEATURE_FILE), FEATURES, max_packets_per_flow=None)\n",
    "    elif udp_trace_df is trace_df:\n",
    "        to_csv(trace_df, flow_feature.udp_generate, os.path.join(LOCAL_PATH, UDP_FLOW_FEATURE_FILE), FEATURES, max_packets_per_flow=None)\n",
    "    else:\n",
    "        raise"
   ]
  },
  {
   "cell_type": "code",
   "execution_count": null,
   "metadata": {},
   "outputs": [],
   "source": []
  }
 ],
 "metadata": {
  "kernelspec": {
   "display_name": "Python 3",
   "language": "python",
   "name": "python3"
  },
  "language_info": {
   "codemirror_mode": {
    "name": "ipython",
    "version": 3
   },
   "file_extension": ".py",
   "mimetype": "text/x-python",
   "name": "python",
   "nbconvert_exporter": "python",
   "pygments_lexer": "ipython3",
   "version": "3.6.4"
  }
 },
 "nbformat": 4,
 "nbformat_minor": 2
}
